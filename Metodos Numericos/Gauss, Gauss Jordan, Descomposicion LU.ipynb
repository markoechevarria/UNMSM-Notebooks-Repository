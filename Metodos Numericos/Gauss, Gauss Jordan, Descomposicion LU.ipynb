{
 "cells": [
  {
   "cell_type": "markdown",
   "id": "b708ab2e",
   "metadata": {},
   "source": [
    "# Método de Gauss"
   ]
  },
  {
   "cell_type": "code",
   "execution_count": 4,
   "id": "dd940bf7",
   "metadata": {},
   "outputs": [
    {
     "name": "stdout",
     "output_type": "stream",
     "text": [
      "rango(A)=5 rango(Ab)=5 n=5\n",
      "solucion unica\n",
      "[17.65270678 19.67904691 35.15143662 22.69415361  4.82265608]\n"
     ]
    }
   ],
   "source": [
    "import numpy as np\n",
    "\n",
    "def gauss(a,b):\n",
    "    n,_=np.shape(a)\n",
    "    A=np.c_[a,b]\n",
    "    for i in range(n-1):\n",
    "        for j in range(i+1,n):\n",
    "            # Si el termino ya es cero continua con la siguiente\n",
    "            if (A[j,i]!=0 and A[i,i]!=0):\n",
    "                # factor de reduccion\n",
    "                f=A[j,i]/A[i,i]\n",
    "                A[j,i+1:n+1]=A[j,i+1:n+1]-f*A[i,i+1:n+1]\n",
    "    # aplica la sustitucion inversa\n",
    "    x=np.zeros(n)\n",
    "    for i in range(n-1,-1,-1):\n",
    "        x[i]=(A[i,n]-np.dot(A[i,i+1:n],x[i+1:n]))/A[i,i]\n",
    "        \n",
    "    return x\n",
    "\n",
    "def main():\n",
    "    a=np.array([[55.8 , 20.4 , 17.1 , 18.5 , 19.2 ],\\\n",
    "               [7.8  , 52.1 , 12.3 , 13.9 , 18.5 ],\\\n",
    "               [16.4 , 11.5 , 46.1 , 11.5 , 21.3 ],\\\n",
    "               [11.7 , 9.2  , 14.1 , 47.0 , 10.4 ],\\\n",
    "               [8.3  , 6.8  , 10.4 , 9.1  , 30.6 ]])\n",
    "    b=np.array([2500,2000,2500,2000,1000])\n",
    "    n,c=np.shape(a)\n",
    "    r=np.linalg.matrix_rank(a)\n",
    "    ab=np.c_[a,b]\n",
    "    ra=np.linalg.matrix_rank(ab)\n",
    "    \n",
    "    print('rango(A)={} rango(Ab)={} n={}'.format(r,ra,n))\n",
    "    \n",
    "    if (r==ra==n):\n",
    "        print('solucion unica')\n",
    "        x=gauss(a,b)\n",
    "        #x=np.linalg.solve(a, b)\n",
    "        print(x)\n",
    "    \n",
    "    if (r==ra<n):\n",
    "        print('multiples soluciones')\n",
    "    \n",
    "    if (r<ra):\n",
    "        print('sin solucion')\n",
    "        \n",
    "if __name__ == \"__main__\": main()"
   ]
  },
  {
   "cell_type": "markdown",
   "id": "a55907d9",
   "metadata": {},
   "source": [
    " # Método de Gauss Jordan"
   ]
  },
  {
   "cell_type": "code",
   "execution_count": 5,
   "id": "d8eecb7f",
   "metadata": {},
   "outputs": [
    {
     "name": "stdout",
     "output_type": "stream",
     "text": [
      "rango(A)=4 rango(Ab)=4 n=4\n",
      "solución única\n",
      "[37.29281768 18.64640884 17.12707182 26.93370166]\n"
     ]
    }
   ],
   "source": [
    "import numpy as np\n",
    "\n",
    "def gaussJordan(a,b):\n",
    "    n,_=np.shape(a)\n",
    "    A=np.c_[a,b]\n",
    "    for i in range(n):\n",
    "        for j in range(n):\n",
    "            # Si el termino ya es cero continua con la siguiente\n",
    "            if (A[j,i]!=0 and A[i,i]!=0 and i!=j):\n",
    "                # factor de reduccion\n",
    "                f=A[j,i]/A[i,i]\n",
    "                A[j,i+1:n+1]=A[j,i+1:n+1]-f*A[i,i+1:n+1]\n",
    "    # aplica la sustitucion inversa\n",
    "    x=np.zeros(n)\n",
    "    for i in range(n):\n",
    "        x[i]=A[i,n]/A[i,i]\n",
    "        \n",
    "    return x\n",
    "\n",
    "def main():\n",
    "    a=np.array([[0.07, 0.18, 0.15, 0.24 ],\\\n",
    "               [0.03, 0.25, 0.10, 0.65 ],\\\n",
    "               [0.55, 0.41, 0.55, 0.09 ],\\\n",
    "               [0.35, 0.16, 0.20, 0.02 ]])\n",
    "    b=np.array([0.15*100, 0.25*100, 0.4*100, 0.2*100])\n",
    "    n,c=np.shape(a)\n",
    "    r=np.linalg.matrix_rank(a)\n",
    "    ab=np.c_[a,b]\n",
    "    ra=np.linalg.matrix_rank(ab)\n",
    "    \n",
    "    print('rango(A)={} rango(Ab)={} n={}'.format(r,ra,n))\n",
    "    \n",
    "    if (r==ra==n):\n",
    "        print('solución única')\n",
    "        x=gaussJordan(a,b)\n",
    "        #x=np.linalg.solve(a, b)\n",
    "        print(x)\n",
    "    \n",
    "    if (r==ra<n):\n",
    "        print('múltiples soluciones')\n",
    "    \n",
    "    if (r<ra):\n",
    "        print('sin solución')\n",
    "        \n",
    "if __name__ == \"__main__\": main()"
   ]
  },
  {
   "cell_type": "markdown",
   "id": "cbcc6e3a",
   "metadata": {},
   "source": [
    "# Descomposición LU"
   ]
  },
  {
   "cell_type": "code",
   "execution_count": 1,
   "id": "36660acd",
   "metadata": {},
   "outputs": [],
   "source": [
    "## Ejemplo: "
   ]
  },
  {
   "cell_type": "code",
   "execution_count": 6,
   "id": "88654d5b",
   "metadata": {},
   "outputs": [
    {
     "name": "stdout",
     "output_type": "stream",
     "text": [
      "rango(A)=4 rango(Ab)=4 n=4\n",
      "solucion unica\n",
      "[[ 0.55        0.41        0.55        0.09      ]\n",
      " [ 0.05454545  0.22763636  0.07        0.64509091]\n",
      " [ 0.63636364 -0.44329073 -0.11896965  0.2486901 ]\n",
      " [ 0.12727273  0.5615016  -0.34206109 -0.04860692]]\n",
      "[37.29281768 18.64640884 17.12707182 26.93370166]\n"
     ]
    }
   ],
   "source": [
    "import numpy as np\n",
    "import scipy as sp\n",
    "\n",
    "def main():\n",
    "    a=np.array([[0.07, 0.18, 0.15, 0.24 ],\\\n",
    "               [0.03, 0.25, 0.10, 0.65 ],\\\n",
    "               [0.55, 0.41, 0.55, 0.09 ],\\\n",
    "               [0.35, 0.16, 0.20, 0.02 ]])\n",
    "    b=np.array([0.15*100, 0.25*100, 0.4*100, 0.2*100])\n",
    "    n,c=np.shape(a)\n",
    "    r=np.linalg.matrix_rank(a)\n",
    "    ab=np.c_[a,b]\n",
    "    ra=np.linalg.matrix_rank(ab)\n",
    "    \n",
    "    print('rango(A)={} rango(Ab)={} n={}'.format(r,ra,c))\n",
    "    \n",
    "    if (r==ra==c):\n",
    "        print('solucion unica')\n",
    "        lu, piv = sp.linalg.lu_factor(a)\n",
    "        x = sp.linalg.lu_solve((lu, piv), b)\n",
    "        print(lu)\n",
    "        print(x)\n",
    "    \n",
    "    if (r==ra<c):\n",
    "        print('multiples soluciones')\n",
    "        \n",
    "    if (r<ra):\n",
    "        print('sin solucion')\n",
    "        \n",
    "if __name__ == \"__main__\": main()"
   ]
  },
  {
   "cell_type": "code",
   "execution_count": null,
   "id": "6e8eefbe",
   "metadata": {},
   "outputs": [],
   "source": []
  }
 ],
 "metadata": {
  "kernelspec": {
   "display_name": "Python 3 (ipykernel)",
   "language": "python",
   "name": "python3"
  },
  "language_info": {
   "codemirror_mode": {
    "name": "ipython",
    "version": 3
   },
   "file_extension": ".py",
   "mimetype": "text/x-python",
   "name": "python",
   "nbconvert_exporter": "python",
   "pygments_lexer": "ipython3",
   "version": "3.13.5"
  }
 },
 "nbformat": 4,
 "nbformat_minor": 5
}
