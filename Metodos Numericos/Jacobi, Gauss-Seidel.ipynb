{
 "cells": [
  {
   "cell_type": "code",
   "execution_count": 14,
   "id": "e8f879d0",
   "metadata": {},
   "outputs": [
    {
     "name": "stdout",
     "output_type": "stream",
     "text": [
      "Collecting prettytableNote: you may need to restart the kernel to use updated packages.\n",
      "\n",
      "  Obtaining dependency information for prettytable from https://files.pythonhosted.org/packages/4d/81/316b6a55a0d1f327d04cc7b0ba9d04058cb62de6c3a4d4b0df280cbe3b0b/prettytable-3.9.0-py3-none-any.whl.metadata\n",
      "  Downloading prettytable-3.9.0-py3-none-any.whl.metadata (26 kB)\n",
      "Requirement already satisfied: wcwidth in c:\\users\\usuario\\anaconda3\\lib\\site-packages (from prettytable) (0.2.5)\n",
      "Downloading prettytable-3.9.0-py3-none-any.whl (27 kB)\n",
      "Installing collected packages: prettytable\n",
      "Successfully installed prettytable-3.9.0\n"
     ]
    }
   ],
   "source": [
    "pip install prettytable # Queremos imprimir la tabla completa de iteraciones"
   ]
  },
  {
   "cell_type": "code",
   "execution_count": 29,
   "id": "161df393",
   "metadata": {},
   "outputs": [],
   "source": [
    "def distinf(x, y):#Implementamos la distancia d_infinito\n",
    "    \"\"\"\n",
    "    Función auxiliar para calcular la distancia euclidiana entre dos vectores.\n",
    "    \"\"\"\n",
    "    return max(abs(xi - yi) for xi, yi in zip(x, y))"
   ]
  },
  {
   "cell_type": "markdown",
   "id": "d67624c3",
   "metadata": {},
   "source": [
    "# Método de Jacobi\n",
    "  Entradas:\n",
    "    \n",
    "        A   -- matriz cuadrada\n",
    "        b   -- vector\n",
    "        x0  -- aproximación inicial\n",
    "        tol -- tolerancia\n",
    "        max -- número máximo de iteraciones\n",
    "    Salida:\n",
    "        x    -- aproximación a solución del sistema Ax = b\n",
    "        None -- en caso de agotar las iteraciones o presentar errores\n"
   ]
  },
  {
   "cell_type": "code",
   "execution_count": 33,
   "id": "32186a6e",
   "metadata": {},
   "outputs": [],
   "source": [
    "from prettytable import PrettyTable\n",
    "\n",
    "def Jacobi(A, b, x0, tol, imax):\n",
    "    n = len(A)\n",
    "    x = [0.0 for _ in range(n)]\n",
    "    \n",
    "    table = PrettyTable()\n",
    "    table.field_names = [\"k\"] + [f\"x_{i+1}\" for i in range(n)] + [\"d_inf\"]\n",
    "    \n",
    "    for k in range(1, imax+1):\n",
    "        for i in range(n):\n",
    "            if abs(A[i][i]) <= 1e-15:  # evitar divisiones por valores muy pequeños\n",
    "                print(\"Imposible iterar\")\n",
    "                return None\n",
    "            \n",
    "            s = sum(A[i][j]*x0[j] for j in range(n) if j != i)\n",
    "            x[i] = (b[i] - s) / A[i][i]\n",
    "        \n",
    "        d_inf = distinf(x, x0)\n",
    "        table.add_row([k] + [round(xi, 4) for xi in x] + [round(d_inf, 6)])\n",
    "        \n",
    "        if d_inf < tol:\n",
    "            print(\"Solución encontrada\")\n",
    "            print(table)\n",
    "            return x\n",
    "        \n",
    "        for i in range(n):\n",
    "            x0[i] = x[i]\n",
    "    \n",
    "    print(\"Iteraciones agotadas\")\n",
    "    print(table)\n",
    "    return None\n"
   ]
  },
  {
   "cell_type": "code",
   "execution_count": 32,
   "id": "17f6e27f",
   "metadata": {},
   "outputs": [
    {
     "name": "stdout",
     "output_type": "stream",
     "text": [
      "Iteraciones agotadas\n",
      "+----+--------+---------+---------+--------+----------+\n",
      "| k  |  x_1   |   x_2   |   x_3   |  x_4   |  d_inf   |\n",
      "+----+--------+---------+---------+--------+----------+\n",
      "| 1  |  1.0   |   0.25  |  0.8333 | 0.6667 |   4.75   |\n",
      "| 2  |  0.75  |  0.0833 | -0.9583 | 1.5278 | 1.791667 |\n",
      "| 3  | 0.9028 | -0.0694 | -0.8611 | 0.9861 | 0.541667 |\n",
      "| 4  | 0.9611 |  0.0278 |  -0.963 | 1.0694 | 0.101852 |\n",
      "| 5  | 0.9843 | -0.0076 | -0.9759 | 1.0031 | 0.066358 |\n",
      "| 6  | 0.993  |  0.0032 | -0.9934 | 1.0106 | 0.017477 |\n",
      "| 7  | 0.9972 | -0.0009 |  -0.996 | 1.0011 | 0.009426 |\n",
      "| 8  | 0.9988 |  0.0004 | -0.9987 | 1.0016 | 0.002757 |\n",
      "| 9  | 0.9995 | -0.0001 | -0.9993 | 1.0003 | 0.001358 |\n",
      "| 10 | 0.9998 |  0.0001 | -0.9998 | 1.0003 | 0.000445 |\n",
      "+----+--------+---------+---------+--------+----------+\n"
     ]
    }
   ],
   "source": [
    "# Ejemplo de uso\n",
    "A=[[5,-1,1,1], [1,4,0,1],[3,-1,6,0],[0,1,-1,3]]\n",
    "b=[5,2,-3,4]\n",
    "x0=[-1,5,3,2]\n",
    "tol = 1e-6\n",
    "imax = 10\n",
    "\n",
    "Jacobi(A, b, x0, tol, imax)"
   ]
  },
  {
   "cell_type": "markdown",
   "id": "7317fc4e",
   "metadata": {},
   "source": [
    "# Método de Jacobi-Seidel"
   ]
  },
  {
   "cell_type": "code",
   "execution_count": 45,
   "id": "a8f9af6f",
   "metadata": {},
   "outputs": [],
   "source": [
    "from math import *\n",
    "from pprint import pprint\n",
    "from prettytable import PrettyTable\n",
    "\n",
    "def GaussSeidel(A, b, x0, TOL, MAX):\n",
    "    \"\"\"\n",
    "    Implementación del método de Gauss-Seidel.\n",
    "\n",
    "    Entradas:\n",
    "    A   -- matriz cuadrada\n",
    "    b   -- vector\n",
    "    x0  -- aproximación inicial\n",
    "    TOL -- tolerancia\n",
    "    MAX -- número máximo de iteraciones\n",
    "\n",
    "    Salida:\n",
    "    x    -- aproximación a la solución del sistema Ax = b\n",
    "    None -- en caso de agotar las iteraciones o presentar errores\n",
    "    \"\"\"\n",
    "    n = len(A)\n",
    "    x = [0.0 for _ in range(n)]\n",
    "    table = PrettyTable()\n",
    "    table.field_names = [\"k\"] + [f\"x_{i+1}\" for i in range(n)] + [\"d_inf\"]\n",
    "    \n",
    "    k = 1\n",
    "    while k <= MAX:\n",
    "        for i in range(n):\n",
    "            if abs(A[i][i]) <= 1e-15:\n",
    "                print(\"Imposible iterar\")\n",
    "                return None\n",
    "            \n",
    "            s1 = sum([A[i][j] * x[j] for j in range(i)])\n",
    "            s2 = sum([A[i][j] * x0[j] for j in range(i+1, n)])\n",
    "            x[i] = (b[i] - s1 - s2) / A[i][i]\n",
    "        \n",
    "        d_inf = distinf(x, x0)\n",
    "        table.add_row([k] + [f\"{xi:.4f}\" for xi in x] + [f\"{d_inf:.6e}\"])\n",
    "        \n",
    "        if d_inf < TOL:\n",
    "            print(\"Solución encontrada\")\n",
    "            print(table)\n",
    "            return x\n",
    "        \n",
    "        k += 1\n",
    "        for i in range(n):\n",
    "            x0[i] = x[i]\n",
    "    \n",
    "    print(table)\n",
    "    print(\"Iteraciones agotadas\")\n",
    "    return None\n"
   ]
  },
  {
   "cell_type": "code",
   "execution_count": 46,
   "id": "db587dda",
   "metadata": {},
   "outputs": [
    {
     "name": "stdout",
     "output_type": "stream",
     "text": [
      "Solución encontrada\n",
      "+---+--------+---------+---------+--------+--------------+\n",
      "| k |  x_1   |   x_2   |   x_3   |  x_4   |    d_inf     |\n",
      "+---+--------+---------+---------+--------+--------------+\n",
      "| 1 | 1.0000 | -0.2500 | -1.0417 | 1.0694 | 5.250000e+00 |\n",
      "| 2 | 0.9444 | -0.0035 | -0.9728 | 1.0102 | 2.465278e-01 |\n",
      "| 3 | 0.9918 | -0.0005 | -0.9960 | 1.0015 | 4.737654e-02 |\n",
      "| 4 | 0.9988 | -0.0001 | -0.9994 | 1.0002 | 6.974880e-03 |\n",
      "| 5 | 0.9998 | -0.0000 | -0.9999 | 1.0000 | 1.026857e-03 |\n",
      "| 6 | 1.0000 | -0.0000 | -1.0000 | 1.0000 | 1.511762e-04 |\n",
      "| 7 | 1.0000 | -0.0000 | -1.0000 | 1.0000 | 2.225650e-05 |\n",
      "| 8 | 1.0000 | -0.0000 | -1.0000 | 1.0000 | 3.276651e-06 |\n",
      "| 9 | 1.0000 | -0.0000 | -1.0000 | 1.0000 | 4.823959e-07 |\n",
      "+---+--------+---------+---------+--------+--------------+\n"
     ]
    },
    {
     "data": {
      "text/plain": [
       "[0.9999999167199309,\n",
       " -5.205004316444217e-09,\n",
       " -0.9999999592274662,\n",
       " 1.0000000153258461]"
      ]
     },
     "execution_count": 46,
     "metadata": {},
     "output_type": "execute_result"
    }
   ],
   "source": [
    "# Ejemplo de uso\n",
    "A=[[5,-1,1,1], [1,4,0,1],[3,-1,6,0],[0,1,-1,3]]\n",
    "b=[5,2,-3,4]\n",
    "x0=[-1,5,3,2]\n",
    "tol = 1e-6\n",
    "imax = 10\n",
    "\n",
    "GaussSeidel(A, b, x0, tol, imax)"
   ]
  },
  {
   "cell_type": "code",
   "execution_count": null,
   "id": "34cf293e",
   "metadata": {},
   "outputs": [],
   "source": []
  },
  {
   "cell_type": "code",
   "execution_count": null,
   "id": "b0669aa7",
   "metadata": {},
   "outputs": [],
   "source": []
  }
 ],
 "metadata": {
  "kernelspec": {
   "display_name": "Python 3 (ipykernel)",
   "language": "python",
   "name": "python3"
  },
  "language_info": {
   "codemirror_mode": {
    "name": "ipython",
    "version": 3
   },
   "file_extension": ".py",
   "mimetype": "text/x-python",
   "name": "python",
   "nbconvert_exporter": "python",
   "pygments_lexer": "ipython3",
   "version": "3.13.5"
  }
 },
 "nbformat": 4,
 "nbformat_minor": 5
}
