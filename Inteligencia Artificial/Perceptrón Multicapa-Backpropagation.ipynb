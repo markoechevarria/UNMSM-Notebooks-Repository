{
 "cells": [
  {
   "cell_type": "markdown",
   "metadata": {
    "id": "045N8CDPlPHY"
   },
   "source": [
    "# Práctica de Laboratorio 7 - Inteligencia Artificial 2025-1 Sección 3 EPIS-FISI\n",
    "## Implementación de una red PMC-BP con Python y Numpy\n",
    "### Prof. Rolando A. Maguiña Pérez"
   ]
  },
  {
   "cell_type": "markdown",
   "metadata": {
    "id": "-hXatp9slPHa"
   },
   "source": [
    "## Introducción\n",
    "La Práctica Guiada de Laboratorio (PGL) 5 a realizarse el Lunes 26 de Mayo del presente año, tratará sobre la red Perceptrón Multicapa con su algoritmo de aprendizaje llamado Backpropagation. Esta red se aplicará para resolver problemas genéricos de clasificación y de regresión.\n",
    "\n",
    "Se desea abordar el problema de la aproximación de una función mediante una Perceptrón Multicapa-Backpropagation (PMC-BP). Inicialmente se presenta la implementación del algoritmo de entrenamiento de esta red (presentado en las sesiones de teoría), con el lenguaje `Python` y sus bibliotecas `Numpy` y `Matplotlib`. Posteriormente, **se propondrán algunos ejercicios cuyas soluciones se podrán obtener en grupos de hasta 3 alumnos**, y deberán enviarse para su respectiva revisión (ver sección 'Instrucciones para el envío' en este mismo cuaderno).  \n",
    "\n",
    "Requiere: numpy, matplotlib\n",
    "\n",
    "Nomenclatura:\n",
    "- Z: número de instancias (muestras) en el conjunto de datos\n",
    "- N: número de atributos o variables de entrada\n",
    "- M: número de atributos o variables de salida\n",
    "- t: vector de salidas esperadas o targets\n",
    "- y: vector de salidas estimadas por la red.\n",
    "\n",
    "### Paso previo\n",
    "Importamos las bibliotecas de Python requeridas."
   ]
  },
  {
   "cell_type": "code",
   "execution_count": null,
   "metadata": {
    "id": "_7z040LIlPHb"
   },
   "outputs": [],
   "source": [
    "import numpy as np\n",
    "import matplotlib.pyplot as plt"
   ]
  },
  {
   "cell_type": "markdown",
   "metadata": {
    "id": "P2rfvUfglPHc"
   },
   "source": [
    "## Dataset\n",
    "El primer paso consiste en obtener el arreglo conteniendo los pares entrada-salida (instancias) a usar en el entrenamiento/validación de la red PMC-BP a implementar; dicho arreglo se denominará 'Dataset'. El tamaño de dicho arreglo es de $Z \\times d$, donde $Z$ es el número de instancias (muestras) y $d$ es el número de características o atributos considerados para el problema abordado (incluye los atributos de entrada y los de salida)."
   ]
  },
  {
   "cell_type": "code",
   "execution_count": null,
   "metadata": {
    "id": "Hq3HpPL2lPHc",
    "outputId": "73e5a217-9ba1-45cc-9852-592e796fa5bd"
   },
   "outputs": [
    {
     "data": {
      "text/plain": [
       "array([[ 0.  ,  0.  ],\n",
       "       [ 1.  ,  0.84],\n",
       "       [ 2.  ,  0.91],\n",
       "       [ 3.  ,  0.14],\n",
       "       [ 4.  , -0.77],\n",
       "       [ 5.  , -0.96],\n",
       "       [ 6.  , -0.28],\n",
       "       [ 7.  ,  0.66],\n",
       "       [ 8.  ,  0.99]])"
      ]
     },
     "execution_count": 2,
     "metadata": {},
     "output_type": "execute_result"
    }
   ],
   "source": [
    "Dataset = np.array([[0.00000, 0.00000], [1.00000, 0.84000], [2.00000, 0.91000], [3.00000, 0.14000],\n",
    "[4.00000, -0.77000], [5.00000, -0.96000],[6.00000, -0.28000], [7.00000, 0.66000], [8.00000, 0.99000]])\n",
    "Dataset"
   ]
  },
  {
   "cell_type": "code",
   "execution_count": null,
   "metadata": {
    "id": "DhIFD_ydlPHd",
    "outputId": "9d499ab1-2c87-4044-fd52-0da1e176c4ce"
   },
   "outputs": [
    {
     "data": {
      "text/plain": [
       "(9, 2)"
      ]
     },
     "execution_count": 3,
     "metadata": {},
     "output_type": "execute_result"
    }
   ],
   "source": [
    "Dataset.shape"
   ]
  },
  {
   "cell_type": "markdown",
   "metadata": {
    "id": "jd-m8tQAlPHe"
   },
   "source": [
    "## Data para el entrenamiento/validación de la red\n",
    "Como sabemos, a partir del dataset obtenido, se deben determinar los conjuntos de datos a emplear en el entrenamiento y en la validación de la red PMC-BP. Enseguida, se deben obtener dos arreglos: uno con los vectores de entrada a usar en el entrenamiento, y el segundo, con los respectivos vectores de salida. Análogamente, se deben determinar los arreglos con los vectores de entrada y de salida, a usar en la validación del entrenamiento. **Sin embargo, para el problema planteado, el dataset se usará tanto para el entrenamiento como para la validación**.\n",
    "\n",
    "Separando los valores de entrada de los de salida."
   ]
  },
  {
   "cell_type": "code",
   "execution_count": null,
   "metadata": {
    "id": "Lf3-0LpClPHe",
    "outputId": "52c32a14-8111-4dea-ce87-703066c5ec01"
   },
   "outputs": [
    {
     "data": {
      "text/plain": [
       "(array([0., 1., 2., 3., 4., 5., 6., 7., 8.]),\n",
       " array([ 0.  ,  0.84,  0.91,  0.14, -0.77, -0.96, -0.28,  0.66,  0.99]))"
      ]
     },
     "execution_count": 5,
     "metadata": {},
     "output_type": "execute_result"
    }
   ],
   "source": [
    "X = Dataset[:,0]\n",
    "t = Dataset[:,1]\n",
    "X, t"
   ]
  },
  {
   "cell_type": "code",
   "execution_count": null,
   "metadata": {
    "id": "z-EQNsF9lPHf",
    "outputId": "8581f725-2b6e-4551-defc-f6655c810e56"
   },
   "outputs": [
    {
     "data": {
      "text/plain": [
       "((9,), (9,))"
      ]
     },
     "execution_count": 6,
     "metadata": {},
     "output_type": "execute_result"
    }
   ],
   "source": [
    "X.shape, t.shape"
   ]
  },
  {
   "cell_type": "code",
   "execution_count": null,
   "metadata": {
    "id": "x2FR9gQblPHf",
    "outputId": "6ca749d1-f8d3-45eb-f71a-a83a89dfe957"
   },
   "outputs": [
    {
     "data": {
      "text/plain": [
       "[<matplotlib.lines.Line2D at 0x2699c3f8dc0>]"
      ]
     },
     "execution_count": 7,
     "metadata": {},
     "output_type": "execute_result"
    },
    {
     "data": {
      "image/png": "[encoded data removed]",
      "text/plain": [
       "<Figure size 400x400 with 1 Axes>"
      ]
     },
     "metadata": {},
     "output_type": "display_data"
    }
   ],
   "source": [
    "plt.figure(figsize=(4, 4))\n",
    "plt.plot(X,t)"
   ]
  },
  {
   "cell_type": "markdown",
   "metadata": {
    "id": "XrGlabqglPHg"
   },
   "source": [
    "## Normalización de los datos\n",
    "Antes de iniciar algún cálculo, sabemos que debemos tener en cuenta las diferencias que existen en las unidades de nuestros datos. Se requiere que los datos de nuestras variables estén en el mismo orden de magnitud, y en un buen número de casos es necesario normalizarlos; de esta manera nuestro modelo trabajará con unidades normalizadas. A pesar de lo indicado, incluso sabedores que hay varios procedimientos de normalización, en este caso, **no vamos a normalizar inicialmente nuestros datos**.\n",
    "\n",
    "## Diseño de la red\n",
    "Inicialmente se considera una topología de la red como la mostrada en la figura, vale decir, con 10 neuronas ocultas. Como función de activación de las neuronas ocultas se usará la logística sigmoidea y en las neuronas de salida, dado que se trata de un problema de aproximación de funciones, se usará una función lineal."
   ]
  },
  {
   "cell_type": "code",
   "execution_count": null,
   "metadata": {
    "id": "4EQw4F2WlPHg",
    "outputId": "fd2901a9-e123-4aaa-8dac-faf5edcbdb95"
   },
   "outputs": [
    {
     "data": {
      "image/png": "[encoded data removed]",
      "text/plain": [
       "<IPython.core.display.Image object>"
      ]
     },
     "execution_count": 8,
     "metadata": {},
     "output_type": "execute_result"
    }
   ],
   "source": [
    "from IPython.display import Image\n",
    "i = Image(filename='D:\\\\Cursos\\\\Redes Neuronales\\\\2021-2\\\\arquit-red_aprox-fc_2021-2.png')\n",
    "i"
   ]
  },
  {
   "cell_type": "markdown",
   "metadata": {
    "id": "3ZLqm5Q_lPHg"
   },
   "source": [
    "## Inicialización de los pesos y biases de la red\n",
    "Según el algoritmo, los parámetros libres de la red se inicializan a valores aleatorios pequeños, los cuales pueden estar en el rangos: [-0.5,0.5] o [-1,1] o en torno de cero. A continuación se presenta el código para inicializarlos, aplicado al **problema planteado**."
   ]
  },
  {
   "cell_type": "code",
   "execution_count": null,
   "metadata": {
    "id": "LGmz7dtilPHg"
   },
   "outputs": [],
   "source": [
    "# Implementación básica sin funciones\n",
    "intervalo = 0.5\n",
    "capa_entrada = 1\n",
    "capa_oculta = 10\n",
    "capa_salida = 1\n",
    "\n",
    "w1 = np.random.uniform(-intervalo, intervalo, capa_oculta)\n",
    "\n",
    "w2 = np.random.uniform(-intervalo, intervalo, capa_oculta)"
   ]
  },
  {
   "cell_type": "code",
   "execution_count": null,
   "metadata": {
    "id": "X_cZP1DllPHh",
    "outputId": "85228be3-c056-488d-cc93-72083ca6a9c4"
   },
   "outputs": [
    {
     "data": {
      "text/plain": [
       "(array([ 0.22497567,  0.33720718, -0.18798206, -0.38501128, -0.02701928,\n",
       "        -0.19744316,  0.08624173,  0.4786098 ,  0.24309706, -0.46911317]),\n",
       " array([ 0.04106826, -0.04334514,  0.12436675,  0.45827204, -0.21264518,\n",
       "        -0.10134376, -0.05555386,  0.1886165 , -0.4599566 , -0.22863083]))"
      ]
     },
     "execution_count": 10,
     "metadata": {},
     "output_type": "execute_result"
    }
   ],
   "source": [
    "w1, w2"
   ]
  },
  {
   "cell_type": "code",
   "execution_count": null,
   "metadata": {
    "id": "EbnibJAIlPHh",
    "outputId": "7ed38407-a0d8-4010-d649-16b2e7617956"
   },
   "outputs": [
    {
     "data": {
      "text/plain": [
       "((10,), (10,))"
      ]
     },
     "execution_count": 11,
     "metadata": {},
     "output_type": "execute_result"
    }
   ],
   "source": [
    "w1.shape, w2.shape"
   ]
  },
  {
   "cell_type": "markdown",
   "metadata": {
    "id": "XWsBKW05lPHh"
   },
   "source": [
    "### Definición de la función logística sigmoidea\n",
    "Sabemos que la expresión matemática de la función logística sigmoidea `f(n)` es:\n",
    "\n",
    "                         f(u) =  1/1 + exp(-u)\n",
    "\n",
    "donde `u` es el vector de entradas netas. A partir de dicho parámetro, es posible calcular la función logistica sigmoidea; en la sgte celda se presenta el respectivo código."
   ]
  },
  {
   "cell_type": "code",
   "execution_count": null,
   "metadata": {
    "id": "HCP1Vj_tlPHi"
   },
   "outputs": [],
   "source": [
    "# Funcion de activacion Logistica Sigmoidea para la unidad de salida\n",
    "def logistica(u):\n",
    "    return 1/(1 + np.exp(-u))"
   ]
  },
  {
   "cell_type": "markdown",
   "metadata": {
    "id": "orJNXa2flPHi"
   },
   "source": [
    "Supongamos que se desea aplicar esta función al arreglo 'a'."
   ]
  },
  {
   "cell_type": "code",
   "execution_count": null,
   "metadata": {
    "id": "J8qUFGD1lPHi",
    "outputId": "6dd62dc1-631c-4aac-9e22-91405c0eb186"
   },
   "outputs": [
    {
     "data": {
      "text/plain": [
       "array([[ 0. ,  0.6, -0.8]])"
      ]
     },
     "execution_count": 13,
     "metadata": {},
     "output_type": "execute_result"
    }
   ],
   "source": [
    "a = np.array([[0, 0.6, -0.8]])\n",
    "a"
   ]
  },
  {
   "cell_type": "code",
   "execution_count": null,
   "metadata": {
    "id": "iYknU_IZlPHi",
    "outputId": "809052b2-409f-4823-d8c7-6b575306ed5d"
   },
   "outputs": [
    {
     "data": {
      "text/plain": [
       "array([[0.5       , 0.64565631, 0.31002552]])"
      ]
     },
     "execution_count": 14,
     "metadata": {},
     "output_type": "execute_result"
    }
   ],
   "source": [
    "logistica(a)"
   ]
  },
  {
   "cell_type": "markdown",
   "metadata": {
    "id": "87HVEvyYlPHj"
   },
   "source": [
    "A continuación se presenta la implementación de la derivada de la función logística sigmoidea:"
   ]
  },
  {
   "cell_type": "code",
   "execution_count": null,
   "metadata": {
    "id": "ycxaZi-ilPIE"
   },
   "outputs": [],
   "source": [
    "def deriv_logistica(x):\n",
    "    return x * (1.0 - x)"
   ]
  },
  {
   "cell_type": "code",
   "execution_count": null,
   "metadata": {
    "id": "afRR8vx6lPIE",
    "outputId": "5fadc2a7-9a11-4d94-9e61-4623a532e2d9"
   },
   "outputs": [
    {
     "data": {
      "text/plain": [
       "-4.8576"
      ]
     },
     "execution_count": 16,
     "metadata": {},
     "output_type": "execute_result"
    }
   ],
   "source": [
    "deriv_logistica(-1.76)"
   ]
  },
  {
   "cell_type": "markdown",
   "metadata": {
    "id": "4R2rWEejlPIF"
   },
   "source": [
    "## Implementación\n",
    "Luego de haber determinado la topología de la red neuronal, la implementaremos en el lenguaje de programación `Python` con la ayuda de su biblioteca `Numpy`. Enseguida, se efectuarán las sgtes actividades:\n",
    "\n",
    "- Construiremos el algoritmo de aprendizaje de nuestra red PMC, Backpropagation, mediante la función `train()`. Dentro de ella se instancian constantes y variables importantes como globales, de modo que estos valores sean accesibles para toda la función.\n",
    "- Aplicaremos dicho algoritmo de aprendizaje para resolver el problema de aproximación de una función planteado; para tal efecto, se usará el conjunto de datos disponible.\n",
    "\n",
    "En las sgtes celdas se presentan las líneas de código correspondientes."
   ]
  },
  {
   "cell_type": "code",
   "execution_count": null,
   "metadata": {
    "id": "bdDH-k2rlPIF"
   },
   "outputs": [],
   "source": [
    "import numpy as np"
   ]
  },
  {
   "cell_type": "code",
   "execution_count": null,
   "metadata": {
    "id": "iHgIrjollPIF"
   },
   "outputs": [],
   "source": [
    "Dataset = np.array([[0.00000, 0.00000], [1.00000, 0.84000], [2.00000, 0.91000], [3.00000, 0.14000],\n",
    "[4.00000, -0.77000], [5.00000, -0.96000],[6.00000, -0.28000], [7.00000, 0.66000], [8.00000, 0.99000]])"
   ]
  },
  {
   "cell_type": "code",
   "execution_count": null,
   "metadata": {
    "id": "N1HeP0L_lPIF",
    "outputId": "644170a2-e5e2-4474-f55d-d10a712b1c8d"
   },
   "outputs": [
    {
     "data": {
      "text/plain": [
       "(array([0., 1., 2., 3., 4., 5., 6., 7., 8.]),\n",
       " array([ 0.  ,  0.84,  0.91,  0.14, -0.77, -0.96, -0.28,  0.66,  0.99]))"
      ]
     },
     "execution_count": 30,
     "metadata": {},
     "output_type": "execute_result"
    }
   ],
   "source": [
    "X = Dataset[:,0]\n",
    "t = Dataset[:,1]\n",
    "X, t"
   ]
  },
  {
   "cell_type": "code",
   "execution_count": null,
   "metadata": {
    "id": "_lWqruGclPIF"
   },
   "outputs": [],
   "source": [
    "def train(X, t, learning_rate=0.2, epochs=50):\n",
    "    global input_num\n",
    "    global hidden_num\n",
    "    global w1\n",
    "    global w2\n",
    "\n",
    "    input_num = 1\n",
    "    hidden_num = 10\n",
    "    output_num = 1\n",
    "    intervalo = 0.5\n",
    "\n",
    "    # inicializando los pesos\n",
    "    w1 = np.random.uniform(-intervalo, intervalo, hidden_num)\n",
    "\n",
    "    w2 = np.random.uniform(-intervalo, intervalo, hidden_num)\n",
    "\n",
    "    for epoch in range(epochs):\n",
    "        gradient_out = 0.0                 # gradientes para la capa de salida y la capa oculta\n",
    "        gradient_hidden = []\n",
    "\n",
    "        for i in range(X.shape[0]):\n",
    "        # propagacion hacia adelante\n",
    "            x = X[i]\n",
    "\n",
    "            u1 = x * w1\n",
    "            o = logistica(u1)\n",
    "            u2 = o.dot(w2)\n",
    "            y = u2\n",
    "\n",
    "        # backpropagation\n",
    "            delta_hidden_s = []           # inicializamos los delta_j a lista vacía\n",
    "            gradient_hidden_s = []       # inicializamos los gradientes de neurs ocultas a lista vacía\n",
    "\n",
    "            delta_out_s = t[i] - y     # cálculo del único delta_k (f'(u) = 1 pq fc de activ es lineal)\n",
    "            gradient_out_s = delta_out_s * o     # error por la salida de la capa anterior\n",
    "\n",
    "            for j in range(hidden_num):\n",
    "\n",
    "                delta_hidden_s.append(deriv_logistica(u1[j]) * w2[j] * delta_out_s)\n",
    "                gradient_hidden_s.append(delta_hidden_s[j] * x)\n",
    "\n",
    "\n",
    "            gradient_out = gradient_out + gradient_out_s\n",
    "            gradient_hidden = gradient_hidden + gradient_hidden_s\n",
    "\n",
    "\n",
    "        print(\"\\n#\", epoch, \"Gradient out: \",gradient_out),\n",
    "        print(\"\\n     Weights  out: \", w1, w2)\n",
    "\n",
    "        # Ahora actualizando pesos\n",
    "        w2 = w2 + learning_rate * gradient_out\n",
    "\n",
    "        for j in range(hidden_num):\n",
    "            w1[j] = w1[j] + learning_rate * gradient_hidden[j]"
   ]
  },
  {
   "cell_type": "code",
   "execution_count": null,
   "metadata": {
    "id": "g0weVnsElPIG",
    "outputId": "e82f212f-16a0-4045-8f50-d7736608186e"
   },
   "outputs": [
    {
     "name": "stdout",
     "output_type": "stream",
     "text": [
      "\n",
      "# 0 Gradient out:  [0.33777024 0.08051956 0.36553773 0.16930803 0.21918132 0.20977531\n",
      " 0.10429149 0.20842732 0.36273849 0.26637424]\n",
      "\n",
      "     Weights  out:  [-0.33080963  0.32533665 -0.3977392   0.14123912 -0.05365629 -0.00960941\n",
      "  0.27703636 -0.00282291 -0.39011284 -0.18720286] [-0.13186264  0.06593343 -0.01304439  0.32972273 -0.40160272  0.35335463\n",
      "  0.01153246 -0.06104285 -0.12903638 -0.13424656]\n",
      "\n",
      "# 1 Gradient out:  [-0.08308469 -1.06860528 -0.01259798 -0.80473918 -0.49343105 -0.56375089\n",
      " -1.00737569 -0.57457237 -0.01982722 -0.28134514]\n",
      "\n",
      "     Weights  out:  [-0.33080963  0.32533665 -0.3977392   0.14123912 -0.05365629 -0.00960941\n",
      "  0.27703636 -0.00282291 -0.39011284 -0.18720286] [-0.06430859  0.08203734  0.06006315  0.36358433 -0.35776646  0.39530969\n",
      "  0.03239076 -0.01935739 -0.05648869 -0.08097171]\n",
      "\n",
      "# 2 Gradient out:  [1.1299254  3.02240185 1.04283137 2.60694264 1.86564474 2.04132958\n",
      " 2.94196454 2.06880375 1.051735   1.41949077]\n",
      "\n",
      "     Weights  out:  [-0.33080963  0.32533665 -0.3977392   0.14123912 -0.05365629 -0.00960941\n",
      "  0.27703636 -0.00282291 -0.39011284 -0.18720286] [-0.08092553 -0.13168371  0.05754356  0.2026365  -0.45645267  0.28255951\n",
      " -0.16908438 -0.13427186 -0.06045413 -0.13724074]\n",
      "\n",
      "# 3 Gradient out:  [ -3.19787044 -10.84558665  -2.75496672  -9.00064327  -6.26590572\n",
      "  -6.90210609 -10.45209547  -7.00099429  -2.80047523  -4.53457055]\n",
      "\n",
      "     Weights  out:  [-0.33080963  0.32533665 -0.3977392   0.14123912 -0.05365629 -0.00960941\n",
      "  0.27703636 -0.00282291 -0.39011284 -0.18720286] [ 0.14505955  0.47279666  0.26610983  0.72402502 -0.08332372  0.69082543\n",
      "  0.41930853  0.27948889  0.14989287  0.14665741]\n",
      "\n",
      "# 4 Gradient out:  [11.46573387 36.69207279 10.08852971 30.75491099 21.50106207 23.66539861\n",
      " 35.45597563 24.00240749 10.2297611  15.72546457]\n",
      "\n",
      "     Weights  out:  [-0.33080963  0.32533665 -0.3977392   0.14123912 -0.05365629 -0.00960941\n",
      "  0.27703636 -0.00282291 -0.39011284 -0.18720286] [-0.49451454 -1.69632067 -0.28488351 -1.07610363 -1.33650487 -0.68959579\n",
      " -1.67111056 -1.12070997 -0.41020218 -0.7602567 ]\n",
      "\n",
      "# 5 Gradient out:  [ -38.8048017  -125.84207914  -33.96159693 -105.19829156  -73.51990089\n",
      "  -80.91703139 -121.51047561  -82.06822748  -34.4586634   -53.66244377]\n",
      "\n",
      "     Weights  out:  [-0.33080963  0.32533665 -0.3977392   0.14123912 -0.05365629 -0.00960941\n",
      "  0.27703636 -0.00282291 -0.39011284 -0.18720286] [1.79863224 5.64209388 1.73282243 5.07487857 2.96370755 4.04348393\n",
      " 5.42008456 3.67977153 1.63575004 2.38483622]\n",
      "\n",
      "# 6 Gradient out:  [133.06881998 430.20117046 116.62936243 359.88831429 251.4887793\n",
      " 276.81305789 415.48205871 280.75483314 118.31610985 183.6269008 ]\n",
      "\n",
      "     Weights  out:  [-0.33080963  0.32533665 -0.3977392   0.14123912 -0.05365629 -0.00960941\n",
      "  0.27703636 -0.00282291 -0.39011284 -0.18720286] [ -5.9623281  -19.52632194  -5.05949696 -15.96477975 -11.74027263\n",
      " -12.13992234 -18.88201056 -12.73387397  -5.25598264  -8.34765254]\n",
      "\n",
      "# 7 Gradient out:  [ -454.92901458 -1471.811101    -398.57027109 -1231.01242298\n",
      "  -860.29426887  -946.88897347 -1421.36745022  -960.36698197\n",
      "  -404.35340494  -628.12251537]\n",
      "\n",
      "     Weights  out:  [-0.33080963  0.32533665 -0.3977392   0.14123912 -0.05365629 -0.00960941\n",
      "  0.27703636 -0.00282291 -0.39011284 -0.18720286] [20.65143589 66.51391215 18.26637553 56.01288311 38.55748323 43.22268923\n",
      " 64.21440118 43.41709266 18.40723933 28.37772762]\n",
      "\n",
      "# 8 Gradient out:  [1556.38501038 5034.45296908 1363.71965844 4211.01109424 2942.77063666\n",
      " 3239.0268621  4861.99065318 3285.13821926 1383.48903946 2148.59296716]\n",
      "\n",
      "     Weights  out:  [-0.33080963  0.32533665 -0.3977392   0.14123912 -0.05365629 -0.00960941\n",
      "  0.27703636 -0.00282291 -0.39011284 -0.18720286] [ -70.33436702 -227.84830805  -61.44767869 -190.18960148 -133.50137054\n",
      " -146.15510546 -220.05908886 -148.65630373  -62.46344165  -97.24677545]\n",
      "\n",
      "# 9 Gradient out:  [ -5323.77261309 -17221.53712623  -4664.6018445  -14404.53957699\n",
      " -10066.41311421 -11079.77055732 -16631.5061342  -11237.49583604\n",
      "  -4732.23992471  -7349.76821175]\n",
      "\n",
      "     Weights  out:  [-0.33080963  0.32533665 -0.3977392   0.14123912 -0.05365629 -0.00960941\n",
      "  0.27703636 -0.00282291 -0.39011284 -0.18720286] [240.94263505 779.04228577 211.296253   652.01261736 455.05275679\n",
      " 501.65026696 752.33904177 508.37134012 214.23436624 332.47181798]\n",
      "\n",
      "# 10 Gradient out:  [18211.1942122  58909.69792355 15956.48179044 49273.80843592\n",
      " 34434.17555956 37900.62770072 56891.46099706 38440.16860255\n",
      " 16187.83914178 25141.31278293]\n",
      "\n",
      "     Weights  out:  [-0.33080963  0.32533665 -0.3977392   0.14123912 -0.05365629 -0.00960941\n",
      "  0.27703636 -0.00282291 -0.39011284 -0.18720286] [ -823.81188757 -2665.26513948  -721.6241159  -2228.89529803\n",
      " -1558.22986605 -1714.30384451 -2573.96218507 -1739.12782709\n",
      "  -732.21361871 -1137.48182437]\n",
      "\n",
      "# 11 Gradient out:  [ -62295.04760086 -201512.89864368  -54582.22210237 -168551.12522981\n",
      " -117789.28915678 -129646.94672182 -194609.0180221  -131492.54814119\n",
      "  -55373.64026042  -86001.16113037]\n",
      "\n",
      "     Weights  out:  [-0.33080963  0.32533665 -0.3977392   0.14123912 -0.05365629 -0.00960941\n",
      "  0.27703636 -0.00282291 -0.39011284 -0.18720286] [2818.42695488 9116.67444523 2469.67224219 7625.86638915 5328.60524586\n",
      " 5865.82169564 8804.33001434 5948.90589342 2505.35420965 3890.78073222]\n",
      "\n",
      "# 12 Gradient out:  [213093.16120963 689316.40080893 186709.96319951 576564.06174357\n",
      " 402922.50823489 443484.13668389 665700.33409403 449797.40778334\n",
      " 189417.16003815 294184.61290543]\n",
      "\n",
      "     Weights  out:  [-0.33080963  0.32533665 -0.3977392   0.14123912 -0.05365629 -0.00960941\n",
      "  0.27703636 -0.00282291 -0.39011284 -0.18720286] [ -9640.5825653  -31185.90528351  -8446.77217828 -26084.35865681\n",
      " -18229.2525855  -20063.56764872 -30117.47359008 -20349.60373482\n",
      "  -8569.37384243 -13309.45149386]\n",
      "\n",
      "# 13 Gradient out:  [ -728929.10787902 -2357949.2170775   -638679.81549054 -1972256.34147621\n",
      " -1378279.75914369 -1517029.12362795 -2277165.50073162 -1538624.96086843\n",
      "  -647940.35384365 -1006319.37111363]\n",
      "\n",
      "     Weights  out:  [-0.33080963  0.32533665 -0.3977392   0.14123912 -0.05365629 -0.00960941\n",
      "  0.27703636 -0.00282291 -0.39011284 -0.18720286] [ 32978.04967663 106677.37487828  28895.22046162  89228.4536919\n",
      "  62355.24906148  68633.25968805 103022.59322873  69609.87782185\n",
      "  29314.0581652   45527.47108723]\n",
      "\n",
      "# 14 Gradient out:  [2493452.63583665 8065852.28463865 2184736.40232741 6746510.33936325\n",
      " 4714690.51918132 5189311.44679101 7789514.9772574  5263184.47989003\n",
      " 2216413.97433391 3442323.13010763]\n",
      "\n",
      "     Weights  out:  [-0.33080963  0.32533665 -0.3977392   0.14123912 -0.05365629 -0.00960941\n",
      "  0.27703636 -0.00282291 -0.39011284 -0.18720286] [-112807.77189917 -364912.46853722  -98840.74263649 -305222.81460334\n",
      " -213300.70276726 -234772.56503754 -352410.50691759 -238115.11435184\n",
      " -100274.01260353 -155736.4031355 ]\n",
      "\n",
      "# 15 Gradient out:  [ -8529369.74746916 -27590913.89690973  -7473341.98949308\n",
      " -23077832.04720878 -16127572.89203266 -17751111.74535496\n",
      " -26645644.97598191 -18003809.70315432  -7581701.68013782\n",
      " -11775177.46949101]\n",
      "\n",
      "     Weights  out:  [-0.33080963  0.32533665 -0.3977392   0.14123912 -0.05365629 -0.00960941\n",
      "  0.27703636 -0.00282291 -0.39011284 -0.18720286] [ 385882.75526816 1248257.98839051  338106.53782899 1044079.25326931\n",
      "  729637.401069    803089.72432066 1205492.48853389  814521.78162617\n",
      "  343008.78226325  532728.22288603]\n",
      "\n",
      "# 16 Gradient out:  [29176471.09319507 94380420.13435353 25564110.12474031 78942491.63836636\n",
      " 55167694.3046421  60721344.38150665 91146932.61445743 61585749.95514394\n",
      " 25934776.8172947  40279426.66947951]\n",
      "\n",
      "     Weights  out:  [-0.33080963  0.32533665 -0.3977392   0.14123912 -0.05365629 -0.00960941\n",
      "  0.27703636 -0.00282291 -0.39011284 -0.18720286] [-1319991.19422567 -4269924.79099144 -1156561.86006963 -3571487.15617244\n",
      " -2495877.17733753 -2747132.62475033 -4123636.5066625  -2786240.1590047\n",
      " -1173331.55376432 -1822307.27101217]\n",
      "\n",
      "# 17 Gradient out:  [-9.98041461e+07 -3.22847722e+08 -8.74473191e+07 -2.70039099e+08\n",
      " -1.88712494e+08 -2.07709901e+08 -3.11786910e+08 -2.10666779e+08\n",
      " -8.87152611e+07 -1.37784099e+08]\n",
      "\n",
      "     Weights  out:  [-0.33080963  0.32533665 -0.3977392   0.14123912 -0.05365629 -0.00960941\n",
      "  0.27703636 -0.00282291 -0.39011284 -0.18720286] [ 4515303.02441334 14606159.23587927  3956260.16487844 12217011.17150083\n",
      "  8537661.68359089  9397136.251551   14105750.01622899  9530909.83202409\n",
      "  4013623.80969462  6233578.06288373]\n",
      "\n",
      "# 18 Gradient out:  [3.41400697e+08 1.10436732e+09 2.99131618e+08 9.23724518e+08\n",
      " 6.45530066e+08 7.10514622e+08 1.06653153e+09 7.20629233e+08\n",
      " 3.03468876e+08 4.71318972e+08]\n",
      "\n",
      "     Weights  out:  [-0.33080963  0.32533665 -0.3977392   0.14123912 -0.05365629 -0.00960941\n",
      "  0.27703636 -0.00282291 -0.39011284 -0.18720286] [-15445526.18945579 -49963385.25424629 -13533203.65349257\n",
      " -41790808.62019768 -29204837.11121114 -32144843.98045959\n",
      " -48251632.06307288 -32602445.96111556 -13729428.40854953\n",
      " -21323241.78709928]\n",
      "\n",
      "# 19 Gradient out:  [-1.16783161e+09 -3.77771655e+09 -1.02324149e+09 -3.15979052e+09\n",
      " -2.20816893e+09 -2.43046203e+09 -3.64829140e+09 -2.46506115e+09\n",
      " -1.03807797e+09 -1.61224390e+09]\n",
      "\n",
      "     Weights  out:  [-0.33080963  0.32533665 -0.3977392   0.14123912 -0.05365629 -0.00960941\n",
      "  0.27703636 -0.00282291 -0.39011284 -0.18720286] [5.28346133e+07 1.70910079e+08 4.62931200e+07 1.42954095e+08\n",
      " 9.99011761e+07 1.09958080e+08 1.65054674e+08 1.11523401e+08\n",
      " 4.69643468e+07 7.29405526e+07]\n",
      "\n",
      "# 20 Gradient out:  [3.99480923e+09 1.29224598e+10 3.50020888e+09 1.08087162e+10\n",
      " 7.55349796e+09 8.31389741e+09 1.24797343e+10 8.43225083e+09\n",
      " 3.55096014e+09 5.51501329e+09]\n",
      "\n",
      "     Weights  out:  [-0.33080963  0.32533665 -0.3977392   0.14123912 -0.05365629 -0.00960941\n",
      "  0.27703636 -0.00282291 -0.39011284 -0.18720286] [-1.80731708e+08 -5.84633230e+08 -1.58355178e+08 -4.89004009e+08\n",
      " -3.41732610e+08 -3.76134325e+08 -5.64603607e+08 -3.81488828e+08\n",
      " -1.60651248e+08 -2.49508227e+08]\n",
      "\n",
      "# 21 Gradient out:  [-1.36650702e+10 -4.42039429e+10 -1.19731875e+10 -3.69734463e+10\n",
      " -2.58383000e+10 -2.84394034e+10 -4.26895091e+10 -2.88442558e+10\n",
      " -1.21467926e+10 -1.88652421e+10]\n",
      "\n",
      "     Weights  out:  [-0.33080963  0.32533665 -0.3977392   0.14123912 -0.05365629 -0.00960941\n",
      "  0.27703636 -0.00282291 -0.39011284 -0.18720286] [6.18230139e+08 1.99985872e+09 5.41686597e+08 1.67273922e+09\n",
      " 1.16896698e+09 1.28664516e+09 1.93134326e+09 1.30496134e+09\n",
      " 5.49540780e+08 8.53494430e+08]\n",
      "\n",
      "# 22 Gradient out:  [4.67441951e+10 1.51208718e+11 4.09567609e+10 1.26475310e+11\n",
      " 8.83852424e+10 9.72828538e+10 1.46028284e+11 9.86677349e+10\n",
      " 4.15506133e+10 6.45324576e+10]\n",
      "\n",
      "     Weights  out:  [-0.33080963  0.32533665 -0.3977392   0.14123912 -0.05365629 -0.00960941\n",
      "  0.27703636 -0.00282291 -0.39011284 -0.18720286] [-2.11478389e+09 -6.84092986e+09 -1.85295090e+09 -5.72195003e+09\n",
      " -3.99869302e+09 -4.40123553e+09 -6.60655857e+09 -4.46388981e+09\n",
      " -1.87981775e+09 -2.91955400e+09]\n",
      "\n",
      "# 23 Gradient out:  [-1.59898175e+11 -5.17240652e+11 -1.40101061e+11 -4.32634924e+11\n",
      " -3.02339979e+11 -3.32776096e+11 -4.99519909e+11 -3.37513368e+11\n",
      " -1.42132456e+11 -2.20746601e+11]\n",
      "\n",
      "     Weights  out:  [-0.33080963  0.32533665 -0.3977392   0.14123912 -0.05365629 -0.00960941\n",
      "  0.27703636 -0.00282291 -0.39011284 -0.18720286] [7.23405514e+09 2.34008137e+10 6.33840129e+09 1.95731120e+10\n",
      " 1.36783555e+10 1.50553352e+10 2.25990982e+10 1.52696572e+10\n",
      " 6.43030491e+09 9.98693752e+09]\n",
      "\n",
      "# 24 Gradient out:  [5.46964736e+11 1.76932849e+12 4.79244618e+11 1.47991712e+12\n",
      " 1.03421635e+12 1.13832938e+12 1.70871103e+12 1.15453419e+12\n",
      " 4.86193423e+11 7.55109346e+11]\n",
      "\n",
      "     Weights  out:  [-0.33080963  0.32533665 -0.3977392   0.14123912 -0.05365629 -0.00960941\n",
      "  0.27703636 -0.00282291 -0.39011284 -0.18720286] [-2.47455799e+10 -8.00473168e+10 -2.16818109e+10 -6.69538727e+10\n",
      " -4.67896403e+10 -5.14998840e+10 -7.73048836e+10 -5.22330165e+10\n",
      " -2.19961862e+10 -3.41623827e+10]\n",
      "\n",
      "# 25 Gradient out:  [-1.87100586e+12 -6.05235359e+12 -1.63935521e+12 -5.06236221e+12\n",
      " -3.53775065e+12 -3.89389077e+12 -5.84499903e+12 -3.94932269e+12\n",
      " -1.66312503e+12 -2.58300750e+12]\n",
      "\n",
      "     Weights  out:  [-0.33080963  0.32533665 -0.3977392   0.14123912 -0.05365629 -0.00960941\n",
      "  0.27703636 -0.00282291 -0.39011284 -0.18720286] [8.46473674e+10 2.73818382e+11 7.41671127e+10 2.29029552e+11\n",
      " 1.60053629e+11 1.76165991e+11 2.64437323e+11 1.78673822e+11\n",
      " 7.52424984e+10 1.16859487e+11]\n",
      "\n",
      "# 26 Gradient out:  [6.40016203e+12 2.07033256e+13 5.60775312e+12 1.73168556e+13\n",
      " 1.21016069e+13 1.33198577e+13 1.99940265e+13 1.35094740e+13\n",
      " 5.68906271e+12 8.83571069e+12]\n",
      "\n",
      "     Weights  out:  [-0.33080963  0.32533665 -0.3977392   0.14123912 -0.05365629 -0.00960941\n",
      "  0.27703636 -0.00282291 -0.39011284 -0.18720286] [-2.89553805e+11 -9.36652335e+11 -2.53703929e+11 -7.83442890e+11\n",
      " -5.47496500e+11 -6.02612162e+11 -9.04562484e+11 -6.11190716e+11\n",
      " -2.57382508e+11 -3.99742013e+11]\n",
      "\n",
      "# 27 Gradient out:  [-2.18930763e+13 -7.08200018e+13 -1.91824779e+13 -5.92358816e+13\n",
      " -4.13960460e+13 -4.55633246e+13 -6.83936978e+13 -4.62119465e+13\n",
      " -1.94606141e+13 -3.02243735e+13]\n",
      "\n",
      "     Weights  out:  [-0.33080963  0.32533665 -0.3977392   0.14123912 -0.05365629 -0.00960941\n",
      "  0.27703636 -0.00282291 -0.39011284 -0.18720286] [9.90478601e+11 3.20401279e+12 8.67846695e+11 2.67992823e+12\n",
      " 1.87282487e+12 2.06135938e+12 3.09424282e+12 2.09070409e+12\n",
      " 8.80430034e+11 1.36740013e+12]\n",
      "\n",
      "# 28 Gradient out:  [7.48897896e+13 2.42254445e+14 6.56176280e+13 2.02628569e+14\n",
      " 1.41603726e+14 1.55858763e+14 2.33954771e+14 1.58077508e+14\n",
      " 6.65690505e+13 1.03388713e+14]\n",
      "\n",
      "     Weights  out:  [-0.33080963  0.32533665 -0.3977392   0.14123912 -0.05365629 -0.00960941\n",
      "  0.27703636 -0.00282291 -0.39011284 -0.18720286] [-3.38813665e+12 -1.09599876e+13 -2.96864888e+12 -9.16724809e+12\n",
      " -6.40638432e+12 -7.05130554e+12 -1.05844967e+13 -7.15168520e+12\n",
      " -3.01169279e+12 -4.67747458e+12]\n",
      "\n",
      "# 29 Gradient out:  [-2.56175995e+14 -8.28681369e+14 -2.24458651e+14 -6.93132875e+14\n",
      " -4.84384795e+14 -5.33147095e+14 -8.00290619e+14 -5.40736770e+14\n",
      " -2.27713188e+14 -3.53662448e+14]\n",
      "\n",
      "     Weights  out:  [-0.33080963  0.32533665 -0.3977392   0.14123912 -0.05365629 -0.00960941\n",
      "  0.27703636 -0.00282291 -0.39011284 -0.18720286] [1.15898213e+13 3.74909014e+13 1.01548767e+13 3.13584657e+13\n",
      " 2.19143609e+13 2.41204471e+13 3.62064574e+13 2.44638165e+13\n",
      " 1.03021173e+13 1.60002680e+13]\n",
      "\n",
      "# 30 Gradient out:  [8.76302905e+14 2.83467580e+15 7.67807179e+14 2.37100417e+15\n",
      " 1.65693825e+15 1.82373976e+15 2.73755937e+15 1.84970182e+15\n",
      " 7.78939995e+14 1.20977546e+15]\n",
      "\n",
      "     Weights  out:  [-0.33080963  0.32533665 -0.3977392   0.14123912 -0.05365629 -0.00960941\n",
      "  0.27703636 -0.00282291 -0.39011284 -0.18720286] [-3.96453776e+13 -1.28245372e+14 -3.47368534e+13 -1.07268109e+14\n",
      " -7.49625981e+13 -8.25089718e+13 -1.23851666e+14 -8.36835376e+13\n",
      " -3.52405202e+13 -5.47322217e+13]\n",
      "\n",
      "# 31 Gradient out:  [-2.99757510e+15 -9.69659409e+15 -2.62644305e+15 -8.11050954e+15\n",
      " -5.66789953e+15 -6.23847858e+15 -9.36438730e+15 -6.32728715e+15\n",
      " -2.66452515e+15 -4.13828684e+15]\n",
      "\n",
      "     Weights  out:  [-0.33080963  0.32533665 -0.3977392   0.14123912 -0.05365629 -0.00960941\n",
      "  0.27703636 -0.00282291 -0.39011284 -0.18720286] [1.35615203e+14 4.38689787e+14 1.18824582e+14 3.66932726e+14\n",
      " 2.56425051e+14 2.82238981e+14 4.23660208e+14 2.86256826e+14\n",
      " 1.20547479e+14 1.87222870e+14]\n",
      "\n",
      "# 32 Gradient out:  [1.02538248e+16 3.31692030e+16 8.98429099e+15 2.77436732e+16\n",
      " 1.93882211e+16 2.13400046e+16 3.20328211e+16 2.16437927e+16\n",
      " 9.11455867e+15 1.41558650e+16]\n",
      "\n",
      "     Weights  out:  [-0.33080963  0.32533665 -0.3977392   0.14123912 -0.05365629 -0.00960941\n",
      "  0.27703636 -0.00282291 -0.39011284 -0.18720286] [-4.63899816e+14 -1.50062903e+15 -4.06464028e+14 -1.25516918e+15\n",
      " -8.77154855e+14 -9.65456734e+14 -1.44921725e+15 -9.79200603e+14\n",
      " -4.12357552e+14 -6.40434499e+14]\n",
      "\n",
      "# 33 Gradient out:  [-3.50753258e+16 -1.13462110e+17 -3.07326231e+16 -9.49029649e+16\n",
      " -6.63214151e+16 -7.29978938e+16 -1.09574881e+17 -7.40370635e+16\n",
      " -3.11782306e+16 -4.84230601e+16]\n",
      "\n",
      "     Weights  out:  [-0.33080963  0.32533665 -0.3977392   0.14123912 -0.05365629 -0.00960941\n",
      "  0.27703636 -0.00282291 -0.39011284 -0.18720286] [1.58686514e+15 5.13321157e+15 1.39039417e+15 4.29356546e+15\n",
      " 3.00048937e+15 3.30254419e+15 4.95734697e+15 3.34955793e+15\n",
      " 1.41055418e+15 2.19073849e+15]\n",
      "\n",
      "# 34 Gradient out:  [1.19982397e+17 3.88120586e+17 1.05127286e+17 3.24635195e+17\n",
      " 2.26866100e+17 2.49704374e+17 3.74823515e+17 2.53259069e+17\n",
      " 1.06651578e+17 1.65641080e+17]\n",
      "\n",
      "     Weights  out:  [-0.33080963  0.32533665 -0.3977392   0.14123912 -0.05365629 -0.00960941\n",
      "  0.27703636 -0.00282291 -0.39011284 -0.18720286] [-5.42820001e+15 -1.75592105e+16 -4.75613046e+15 -1.46870275e+16\n",
      " -1.02637937e+16 -1.12970346e+16 -1.69576293e+16 -1.14578548e+16\n",
      " -4.82509195e+15 -7.49387354e+15]\n",
      "\n",
      "# 35 Gradient out:  [-4.10424573e+17 -1.32764663e+18 -3.59609595e+17 -1.11048174e+18\n",
      " -7.76042357e+17 -8.54165391e+17 -1.28216126e+18 -8.66324959e+17\n",
      " -3.64823753e+17 -5.66609528e+17]\n",
      "\n",
      "     Weights  out:  [-0.33080963  0.32533665 -0.3977392   0.14123912 -0.05365629 -0.00960941\n",
      "  0.27703636 -0.00282291 -0.39011284 -0.18720286] [1.85682794e+16 6.00649066e+16 1.62693267e+16 5.02400114e+16\n",
      " 3.51094263e+16 3.86438403e+16 5.80070738e+16 3.91939590e+16\n",
      " 1.65052237e+16 2.56343424e+16]\n",
      "\n",
      "# 36 Gradient out:  [1.40394203e+18 4.54148955e+18 1.23011890e+18 3.79863218e+18\n",
      " 2.65461318e+18 2.92184916e+18 4.38589743e+18 2.96344347e+18\n",
      " 1.24795501e+18 1.93820493e+18]\n",
      "\n",
      "     Weights  out:  [-0.33080963  0.32533665 -0.3977392   0.14123912 -0.05365629 -0.00960941\n",
      "  0.27703636 -0.00282291 -0.39011284 -0.18720286] [-6.35166352e+16 -2.05464420e+17 -5.56525924e+16 -1.71856337e+17\n",
      " -1.20099045e+17 -1.32189238e+17 -1.98425178e+17 -1.34071033e+17\n",
      " -5.64595269e+16 -8.76875631e+16]\n",
      "\n",
      "# 37 Gradient out:  [-4.80247371e+18 -1.55351031e+19 -4.20787580e+18 -1.29940060e+19\n",
      " -9.08065272e+18 -9.99478858e+18 -1.50028681e+19 -1.01370705e+19\n",
      " -4.26888788e+18 -6.63003032e+18]\n",
      "\n",
      "     Weights  out:  [-0.33080963  0.32533665 -0.3977392   0.14123912 -0.05365629 -0.00960941\n",
      "  0.27703636 -0.00282291 -0.39011284 -0.18720286] [2.17271771e+17 7.02833490e+17 1.90371188e+17 5.87870098e+17\n",
      " 4.10823591e+17 4.52180593e+17 6.78754308e+17 4.58617662e+17\n",
      " 1.93131474e+17 2.99953423e+17]\n",
      "\n",
      "# 38 Gradient out:  [1.64278533e+19 5.31410291e+19 1.43939084e+19 4.44486816e+19\n",
      " 3.10622484e+19 3.41892389e+19 5.13204094e+19 3.46759437e+19\n",
      " 1.46026128e+19 2.26793882e+19]\n",
      "\n",
      "     Weights  out:  [-0.33080963  0.32533665 -0.3977392   0.14123912 -0.05365629 -0.00960941\n",
      "  0.27703636 -0.00282291 -0.39011284 -0.18720286] [-7.43222971e+17 -2.40418713e+18 -6.51203972e+17 -2.01093110e+18\n",
      " -1.40530695e+18 -1.54677712e+18 -2.32181931e+18 -1.56879644e+18\n",
      " -6.60646101e+17 -1.02605264e+18]\n",
      "\n",
      "# 39 Gradient out:  [-5.61948657e+19 -1.81779867e+20 -4.92373368e+19 -1.52045897e+20\n",
      " -1.06254837e+20 -1.16951354e+20 -1.75552061e+20 -1.18616228e+20\n",
      " -4.99512533e+19 -7.75795320e+19]\n",
      "\n",
      "     Weights  out:  [-0.33080963  0.32533665 -0.3977392   0.14123912 -0.05365629 -0.00960941\n",
      "  0.27703636 -0.00282291 -0.39011284 -0.18720286] [2.54234769e+18 8.22401869e+18 2.22757770e+18 6.87880522e+18\n",
      " 4.80714272e+18 5.29107065e+18 7.94226256e+18 5.36639229e+18\n",
      " 2.25987645e+18 3.50982500e+18]\n",
      "\n",
      "# 40 Gradient out:  [1.92226146e+20 6.21815584e+20 1.68426481e+20 5.20104397e+20\n",
      " 3.63466617e+20 4.00056263e+20 6.00512087e+20 4.05751309e+20\n",
      " 1.70868580e+20 2.65376814e+20]\n",
      "\n",
      "     Weights  out:  [-0.33080963  0.32533665 -0.3977392   0.14123912 -0.05365629 -0.00960941\n",
      "  0.27703636 -0.00282291 -0.39011284 -0.18720286] [-8.69662544e+18 -2.81319547e+19 -7.61988965e+18 -2.35303741e+19\n",
      " -1.64438246e+19 -1.80992001e+19 -2.71681497e+19 -1.83568533e+19\n",
      " -7.73037421e+18 -1.20060814e+19]\n",
      "\n",
      "# 41 Gradient out:  [-6.57549238e+20 -2.12704865e+21 -5.76137568e+20 -1.77912452e+21\n",
      " -1.24331264e+21 -1.36847508e+21 -2.05417564e+21 -1.38795617e+21\n",
      " -5.84491272e+20 -9.07776210e+20]\n",
      "\n",
      "     Weights  out:  [-0.33080963  0.32533665 -0.3977392   0.14123912 -0.05365629 -0.00960941\n",
      "  0.27703636 -0.00282291 -0.39011284 -0.18720286] [2.97486037e+19 9.62311620e+19 2.60654065e+19 8.04905052e+19\n",
      " 5.62494988e+19 6.19120525e+19 9.29342678e+19 6.27934086e+19\n",
      " 2.64433418e+19 4.10692814e+19]\n",
      "\n",
      "# 42 Gradient out:  [2.24928299e+21 7.27600926e+21 1.97079756e+21 6.08586293e+21\n",
      " 4.25300771e+21 4.68115170e+21 7.02673208e+21 4.74779076e+21\n",
      " 1.99937313e+21 3.10523604e+21]\n",
      "\n",
      "     Weights  out:  [-0.33080963  0.32533665 -0.3977392   0.14123912 -0.05365629 -0.00960941\n",
      "  0.27703636 -0.00282291 -0.39011284 -0.18720286] [-1.01761244e+20 -3.29178567e+20 -8.91621072e+19 -2.75334399e+20\n",
      " -1.92413030e+20 -2.11782964e+20 -3.17900860e+20 -2.14797825e+20\n",
      " -9.04549127e+19 -1.40485960e+20]\n",
      "\n",
      "# 43 Gradient out:  [-7.69413709e+21 -2.48890926e+22 -6.74152015e+21 -2.08179512e+22\n",
      " -1.45482914e+22 -1.60128463e+22 -2.40363885e+22 -1.62407990e+22\n",
      " -6.83926879e+21 -1.06221013e+22]\n",
      "\n",
      "     Weights  out:  [-0.33080963  0.32533665 -0.3977392   0.14123912 -0.05365629 -0.00960941\n",
      "  0.27703636 -0.00282291 -0.39011284 -0.18720286] [3.48095355e+20 1.12602328e+21 3.04997405e+20 9.41838186e+20\n",
      " 6.58188513e+20 7.24447375e+20 1.08744556e+21 7.34760328e+20\n",
      " 3.09419713e+20 4.80561247e+20]\n",
      "\n",
      "# 44 Gradient out:  [2.63193852e+22 8.51382824e+22 2.30607622e+22 7.12121024e+22\n",
      " 4.97654358e+22 5.47752485e+22 8.22214319e+22 5.55550078e+22\n",
      " 2.33951316e+22 3.63350916e+22]\n",
      "\n",
      "     Weights  out:  [-0.33080963  0.32533665 -0.3977392   0.14123912 -0.05365629 -0.00960941\n",
      "  0.27703636 -0.00282291 -0.39011284 -0.18720286] [-1.19073206e+21 -3.85179524e+21 -1.04330662e+21 -3.22175206e+21\n",
      " -2.25146976e+21 -2.47812189e+21 -3.71983215e+21 -2.51339948e+21\n",
      " -1.05843404e+21 -1.64385901e+21]\n",
      "\n",
      "# 45 Gradient out:  [-9.00308937e+22 -2.91233081e+23 -7.88841005e+22 -2.43595706e+23\n",
      " -1.70232953e+23 -1.87370052e+23 -2.81255392e+23 -1.90037380e+23\n",
      " -8.00278802e+22 -1.24291686e+23]\n",
      "\n",
      "     Weights  out:  [-0.33080963  0.32533665 -0.3977392   0.14123912 -0.05365629 -0.00960941\n",
      "  0.27703636 -0.00282291 -0.39011284 -0.18720286] [4.07314498e+21 1.31758612e+22 3.56884581e+21 1.10206684e+22\n",
      " 7.70161740e+21 8.47692781e+21 1.27244542e+22 8.59760208e+21\n",
      " 3.62059228e+21 5.62315930e+21]\n",
      "\n",
      "# 46 Gradient out:  [3.07969269e+23 9.96222912e+23 2.69839360e+23 8.33269430e+23\n",
      " 5.82316978e+23 6.40937966e+23 9.62092164e+23 6.50062111e+23\n",
      " 2.73751895e+23 4.25165386e+23]\n",
      "\n",
      "     Weights  out:  [-0.33080963  0.32533665 -0.3977392   0.14123912 -0.05365629 -0.00960941\n",
      "  0.27703636 -0.00282291 -0.39011284 -0.18720286] [-1.39330338e+22 -4.50707550e+22 -1.22079743e+22 -3.76984728e+22\n",
      " -2.63449732e+22 -2.89970826e+22 -4.35266241e+22 -2.94098738e+22\n",
      " -1.23849838e+22 -1.92351779e+22]\n",
      "\n",
      "# 47 Gradient out:  [-1.05347250e+24 -3.40778625e+24 -9.23041270e+23 -2.85037021e+24\n",
      " -1.99193551e+24 -2.19246071e+24 -3.29103498e+24 -2.22367173e+24\n",
      " -9.36424903e+23 -1.45436603e+24]\n",
      "\n",
      "     Weights  out:  [-0.33080963  0.32533665 -0.3977392   0.14123912 -0.05365629 -0.00960941\n",
      "  0.27703636 -0.00282291 -0.39011284 -0.18720286] [4.76608200e+22 1.54173827e+23 4.17598978e+22 1.28955413e+23\n",
      " 9.01184225e+22 9.91905106e+22 1.48891809e+23 1.00602548e+23\n",
      " 4.23653952e+22 6.57978993e+22]\n",
      "\n",
      "# 48 Gradient out:  [3.60362029e+24 1.16570368e+25 3.15745333e+24 9.75028006e+24\n",
      " 6.81382686e+24 7.49976472e+24 1.12576649e+25 7.60652847e+24\n",
      " 3.20323481e+24 4.97495941e+24]\n",
      "\n",
      "     Weights  out:  [-0.33080963  0.32533665 -0.3977392   0.14123912 -0.05365629 -0.00960941\n",
      "  0.27703636 -0.00282291 -0.39011284 -0.18720286] [-1.63033680e+23 -5.27383423e+23 -1.42848356e+23 -4.41118628e+23\n",
      " -3.08268679e+23 -3.39301631e+23 -5.09315187e+23 -3.44131797e+23\n",
      " -1.44919585e+23 -2.25075306e+23]\n",
      "\n",
      "# 49 Gradient out:  [-1.23269276e+25 -3.98753022e+25 -1.08007213e+25 -3.33528470e+25\n",
      " -2.33081023e+25 -2.56544944e+25 -3.85091683e+25 -2.60197018e+25\n",
      " -1.09573263e+25 -1.70178763e+25]\n",
      "\n",
      "     Weights  out:  [-0.33080963  0.32533665 -0.3977392   0.14123912 -0.05365629 -0.00960941\n",
      "  0.27703636 -0.00282291 -0.39011284 -0.18720286] [5.57690378e+23 1.80402393e+24 4.88642310e+23 1.50893738e+24\n",
      " 1.05449669e+24 1.16065131e+24 1.74221780e+24 1.17717390e+24\n",
      " 4.95727376e+23 7.69916575e+23]\n"
     ]
    }
   ],
   "source": [
    "train(X, t)"
   ]
  },
  {
   "cell_type": "markdown",
   "metadata": {
    "id": "MZ5wp6wQbErA"
   },
   "source": []
  },
  {
   "cell_type": "markdown",
   "metadata": {
    "id": "nBiXJBwBlPIG"
   },
   "source": [
    "## Ejercicios\n",
    "### Ejercicio A  (3 puntos)\n",
    "1. Obtenga, a partir del código presentado para el entrenamiento de la PMC-BP, el algoritmo de recuerdo de la red.\n",
    "2. Aplique ahora dicho algoritmo de recuerdo en la etapa denominada *Validación* para el mismo problema de regresión. Determine el error cuadrático de la red en cada época y grafique sus resultados.\n",
    "\n",
    "SOLUCION EJERCICIO A\n",
    "###PREGUNTA 1\n",
    "1 - Propagar hacia adelante\n",
    "2 - Calcular el error\n",
    "3 - Retropropagar el error\n",
    "4 - Actualizar los pesos\n",
    "5- Repetir\n",
    "\n",
    "###PREGUNTA 2\n",
    "\n",
    "\n"
   ]
  },
  {
   "cell_type": "code",
   "execution_count": 1,
   "metadata": {
    "colab": {
     "base_uri": "https://localhost:8080/",
     "height": 648
    },
    "executionInfo": {
     "elapsed": 3105,
     "status": "ok",
     "timestamp": 1749157680279,
     "user": {
      "displayName": "ReallyMan",
      "userId": "10181031658833422256"
     },
     "user_tz": 300
    },
    "id": "L_OS8tjo62ep",
    "outputId": "77578c0d-79d3-4c1f-ec6d-5c0162b16836"
   },
   "outputs": [
    {
     "name": "stdout",
     "output_type": "stream",
     "text": [
      "Epoch 0 - MSE: 0.2481292234196314\n",
      "Epoch 1000 - MSE: 0.0006619824484369402\n",
      "Epoch 2000 - MSE: 0.00022809254908732156\n",
      "Epoch 3000 - MSE: 0.00013360389206242497\n",
      "Epoch 4000 - MSE: 9.340504624686077e-05\n",
      "Epoch 5000 - MSE: 7.138552854550295e-05\n",
      "Epoch 6000 - MSE: 5.756579804022237e-05\n",
      "Epoch 7000 - MSE: 4.811740801269139e-05\n",
      "Epoch 8000 - MSE: 4.126557814347702e-05\n",
      "Epoch 9000 - MSE: 3.607796450077908e-05\n"
     ]
    },
    {
     "data": {
      "image/png": "[encoded data removed]",
      "text/plain": [
       "<Figure size 640x480 with 1 Axes>"
      ]
     },
     "metadata": {},
     "output_type": "display_data"
    }
   ],
   "source": [
    "import numpy as np\n",
    "import matplotlib.pyplot as plt\n",
    "\n",
    "X = np.array([[0, 0], [0, 1], [1, 0], [1, 1]])\n",
    "t = np.array([[0], [1], [1], [0]])\n",
    "# Parámetros de la red\n",
    "input_layer_size = X.shape[1]\n",
    "hidden_layer_size = 2\n",
    "output_layer_size = 1\n",
    "learning_rate = 0.1\n",
    "epochs = 10000\n",
    "\n",
    "# pesos y sesgos\n",
    "np.random.seed(1)\n",
    "weights_input_hidden = np.random.rand(input_layer_size, hidden_layer_size)\n",
    "bias_hidden = np.random.rand(1, hidden_layer_size)\n",
    "weights_hidden_output = np.random.rand(hidden_layer_size, output_layer_size)\n",
    "bias_output = np.random.rand(1, output_layer_size)\n",
    "\n",
    "# Funciones de activacion\n",
    "def tanh(x):\n",
    "    return np.tanh(x)\n",
    "\n",
    "def tanh_derivative(x):\n",
    "    return 1 - np.power(x, 2)\n",
    "\n",
    "# Entrenamiento de la red\n",
    "error_list = []\n",
    "\n",
    "for epoch in range(epochs):\n",
    "    # Paso hacia adelante\n",
    "    hidden_input = np.dot(X, weights_input_hidden) + bias_hidden\n",
    "    hidden_output = tanh(hidden_input)  # Usamos tanh en la capa oculta\n",
    "    output_input = np.dot(hidden_output, weights_hidden_output) + bias_output\n",
    "    output = tanh(output_input)  # Capa de salida con tanh\n",
    "\n",
    "    # Cálculo del error\n",
    "    error = t - output\n",
    "    mse = np.mean(np.square(error))  # Error cuadrático medio\n",
    "    error_list.append(mse)\n",
    "\n",
    "    # Retropropagación (Backpropagation)\n",
    "    output_delta = error * tanh_derivative(output)  # Derivada de tanh en la salida\n",
    "    hidden_delta = output_delta.dot(weights_hidden_output.T) * tanh_derivative(hidden_output)  # Derivada de tanh en la capa oculta\n",
    "\n",
    "    # Actualización de pesos y sesgos\n",
    "    weights_hidden_output += hidden_output.T.dot(output_delta) * learning_rate\n",
    "    bias_output += np.sum(output_delta, axis=0, keepdims=True) * learning_rate\n",
    "    weights_input_hidden += X.T.dot(hidden_delta) * learning_rate\n",
    "    bias_hidden += np.sum(hidden_delta, axis=0, keepdims=True) * learning_rate\n",
    "\n",
    "    if epoch % 1000 == 0:\n",
    "        print(f\"Epoch {epoch} - MSE: {mse}\")\n",
    "\n",
    "# Graficar el MSE en cada época\n",
    "plt.plot(error_list)\n",
    "plt.title(\"Error Cuadrático Medio (MSE) en cada época\")\n",
    "plt.xlabel(\"Épocas\")\n",
    "plt.ylabel(\"MSE\")\n",
    "plt.show()\n"
   ]
  },
  {
   "cell_type": "markdown",
   "metadata": {
    "id": "nNOYtovPbOqD"
   },
   "source": [
    "### Ejercicio B  (5 puntos)\n",
    "1. Use la función tangente hiperbólica en lugar de la lineal en la capa de salida para abordar el mismo problema. Con ese objetivo defina la(s) función(nes) que se requieran e insértelas en el código de modo que la red funcione correctamente. Mantenga inalterada la arquitectura de la red.\n",
    "2. A partir de las modificaciones pedidas, entrene nuevamente la red al mismo problema de regresión. Enseguida aplique el algoritmo de recuerdo.\n",
    "3. Compare los resultados que obtenga con los obtenidos con la red PMC-BP que usaba una función lineal en la salida.\n",
    "\n",
    "SOLUCION EJERCICIO B\n"
   ]
  },
  {
   "cell_type": "code",
   "execution_count": 2,
   "metadata": {
    "colab": {
     "base_uri": "https://localhost:8080/",
     "height": 474
    },
    "executionInfo": {
     "elapsed": 2380,
     "status": "ok",
     "timestamp": 1749157694684,
     "user": {
      "displayName": "ReallyMan",
      "userId": "10181031658833422256"
     },
     "user_tz": 300
    },
    "id": "NBA8o0cs7Djo",
    "outputId": "71dd4a30-367d-46a0-9db1-7a926fbead10"
   },
   "outputs": [
    {
     "data": {
      "image/png": "[encoded data removed]",
      "text/plain": [
       "<Figure size 640x480 with 1 Axes>"
      ]
     },
     "metadata": {},
     "output_type": "display_data"
    }
   ],
   "source": [
    "import numpy as np\n",
    "import matplotlib.pyplot as plt\n",
    "\n",
    "# Datos de entrada (X) y salida esperada (t)\n",
    "X = np.array([[0, 0], [0, 1], [1, 0], [1, 1]])\n",
    "t = np.array([[0], [1], [1], [0]])\n",
    "\n",
    "input_layer_size = X.shape[1]\n",
    "hidden_layer_size = 2\n",
    "output_layer_size = 1\n",
    "learning_rate = 0.1\n",
    "epochs = 10000\n",
    "\n",
    "# Inicialización de los pesos y sesgos\n",
    "np.random.seed(1)\n",
    "weights_input_hidden = np.random.rand(input_layer_size, hidden_layer_size)\n",
    "bias_hidden = np.random.rand(1, hidden_layer_size)\n",
    "weights_hidden_output = np.random.rand(hidden_layer_size, output_layer_size)\n",
    "bias_output = np.random.rand(1, output_layer_size)\n",
    "\n",
    "# Funciones de activación\n",
    "def tanh(x):\n",
    "    return np.tanh(x)\n",
    "\n",
    "def tanh_derivative(x):\n",
    "    return 1 - np.power(x, 2)\n",
    "\n",
    "def linear(x):\n",
    "    return x\n",
    "\n",
    "def linear_derivative(x):\n",
    "    return np.ones_like(x)\n",
    "\n",
    "# Función para entrenar la red con activación lineal\n",
    "def train_with_linear_activation(weights_input_hidden, bias_hidden, weights_hidden_output, bias_output):\n",
    "    error_list_linear = []\n",
    "    for epoch in range(epochs):\n",
    "\n",
    "        # Paso hacia adelante\n",
    "        hidden_input = np.dot(X, weights_input_hidden) + bias_hidden\n",
    "        hidden_output = tanh(hidden_input)  # Usamos tanh en la capa oculta\n",
    "        output_input = np.dot(hidden_output, weights_hidden_output) + bias_output\n",
    "        output = linear(output_input)\n",
    "\n",
    "        # Cálculo del error\n",
    "        error = t - output\n",
    "        mse = np.mean(np.square(error))\n",
    "        error_list_linear.append(mse)\n",
    "\n",
    "\n",
    "        output_delta = error * linear_derivative(output)\n",
    "        hidden_delta = output_delta.dot(weights_hidden_output.T) * tanh_derivative(hidden_output)\n",
    "\n",
    "        # Actualiza los pesos\n",
    "        weights_hidden_output += hidden_output.T.dot(output_delta) * learning_rate\n",
    "        bias_output += np.sum(output_delta, axis=0, keepdims=True) * learning_rate\n",
    "        weights_input_hidden += X.T.dot(hidden_delta) * learning_rate\n",
    "        bias_hidden += np.sum(hidden_delta, axis=0, keepdims=True) * learning_rate\n",
    "\n",
    "    return error_list_linear\n",
    "\n",
    "\n",
    "def train_with_tanh_activation(weights_input_hidden, bias_hidden, weights_hidden_output, bias_output):\n",
    "    error_list_tanh = []\n",
    "    for epoch in range(epochs):\n",
    "        # Paso hacia adelante\n",
    "        hidden_input = np.dot(X, weights_input_hidden) + bias_hidden\n",
    "        hidden_output = tanh(hidden_input)  # Usamos tanh en la capa oculta\n",
    "        output_input = np.dot(hidden_output, weights_hidden_output) + bias_output\n",
    "        output = tanh(output_input)  # Capa de salida con tanh\n",
    "\n",
    "        # Cálculo del error\n",
    "        error = t - output\n",
    "        mse = np.mean(np.square(error))  # Error cuadrático medio\n",
    "        error_list_tanh.append(mse)\n",
    "\n",
    "        # Retropropagacion\n",
    "        output_delta = error * tanh_derivative(output)  # Derivada de tanh en la salida\n",
    "        hidden_delta = output_delta.dot(weights_hidden_output.T) * tanh_derivative(hidden_output)  # Derivada de tanh en la capa oculta\n",
    "\n",
    "        # Actualiza pesos\n",
    "        weights_hidden_output += hidden_output.T.dot(output_delta) * learning_rate\n",
    "        bias_output += np.sum(output_delta, axis=0, keepdims=True) * learning_rate\n",
    "        weights_input_hidden += X.T.dot(hidden_delta) * learning_rate\n",
    "        bias_hidden += np.sum(hidden_delta, axis=0, keepdims=True) * learning_rate\n",
    "\n",
    "    return error_list_tanh\n",
    "\n",
    "# Entremando las redes\n",
    "error_list_linear = train_with_linear_activation(weights_input_hidden, bias_hidden, weights_hidden_output, bias_output)\n",
    "error_list_tanh = train_with_tanh_activation(weights_input_hidden, bias_hidden, weights_hidden_output, bias_output)\n",
    "\n",
    "# grafico de los resultados\n",
    "plt.plot(error_list_linear, label=\"Red con activacion lineal en la capa de salida\")\n",
    "plt.plot(error_list_tanh, label=\"Red con activacion tanh en la capa de salida\")\n",
    "plt.title(\"Comparacion de MSE: Función Lineal vs Tanh\")\n",
    "plt.xlabel(\"Épocas\")\n",
    "plt.ylabel(\"MSE\")\n",
    "plt.legend()\n",
    "plt.show()\n"
   ]
  },
  {
   "cell_type": "markdown",
   "metadata": {
    "id": "0KnlQDXJcicw"
   },
   "source": [
    "### Ejercicio C (4 puntos)\n",
    "1. Modifique la arquitectura de la red PMC usando ahora 4, 6, 8 y 12 neuronas en la capa oculta. Aplique las etapas de entrenamiento/validación de la red.\n",
    "2. Determine el mejor modelo, indicando específicamente con cuántas neuronas ocultas obtuvo la mejor respuesta de la red.\n",
    "\n",
    "SOLUCION EJERCICIO C"
   ]
  },
  {
   "cell_type": "markdown",
   "metadata": {
    "id": "1Mg5e3JdbAv2"
   },
   "source": []
  },
  {
   "cell_type": "markdown",
   "metadata": {
    "id": "mTIkJbhiwqKu"
   },
   "source": [
    "### Ejercicio D (8 puntos)\n",
    "1. Modifique la arquitectura de la red PMC usando ahora **dos capas ocultas**, inicialmente con 10 neuronas en la primera capa oculta y 8 neuronas en la segunda capa oculta. Use diferentes números de neuronas en las capas ocultas. Aplique las etapas de entrenamiento/validación de la red para cada combinación.\n",
    "2. Determine con qué combinación de neuronas en las capas ocultas obtuvo el mejor modelo, el que produjo la mejor respuesta de la red."
   ]
  },
  {
   "cell_type": "markdown",
   "metadata": {
    "id": "78s-kGERwumW"
   },
   "source": [
    "SOLUCION EJERCICIO D\n"
   ]
  },
  {
   "cell_type": "markdown",
   "metadata": {
    "id": "oUHTo8XW3hzH"
   },
   "source": [
    "## Instrucciones para el envío de la solución\n",
    "La solución de la \"Práctica de Laboratorio 7 IA 2025-1\" deberá enviarse al correo electrónico rmaguinacursos@gmail.com, hasta las 23:59 h del Miércoles 04 de Junio del 2025 en un cuaderno computacional interactivo (archivo con extensión .ipynb).\n",
    "\n",
    "El documento deberá tener las sgtes características:\n",
    "- Nombre del archivo: solPGL7_IA_2025-1_EPIS_nombre-apellidos.ipynb.\n",
    "- Todas las preguntas de la Práctica deben responderse en el mismo cci (**Sugerencia**: obtener una copia de este documento y desarrollar en ellas las respectivas soluciones); la solución a cada pregunta debe registrarse en una celda debajo del planteamiento de la misma, mencionando explícitamente como subtítulo: \\\"Solución del ejercicio n\\\", donde \\\"n\\\" corresponde al número del ejercicio.\""
   ]
  }
 ],
 "metadata": {
  "colab": {
   "provenance": []
  },
  "kernelspec": {
   "display_name": "Python 3 (ipykernel)",
   "language": "python",
   "name": "python3"
  },
  "language_info": {
   "codemirror_mode": {
    "name": "ipython",
    "version": 3
   },
   "file_extension": ".py",
   "mimetype": "text/x-python",
   "name": "python",
   "nbconvert_exporter": "python",
   "pygments_lexer": "ipython3",
   "version": "3.13.5"
  }
 },
 "nbformat": 4,
 "nbformat_minor": 4
}
