{
 "cells": [
  {
   "cell_type": "markdown",
   "metadata": {
    "colab_type": "text",
    "id": "2yEbBtIk5MsP"
   },
   "source": [
    "# Ejemplo de CNN: Clasificacion de imagenes\n",
    "En este ejemplo se utiliza una red convolucional en Keras para clasificar imagenes. La red se entreno con el dataset de CIFAR10 que incluye imagenes de 10 clases difernetes de vehiculos y animales.\n",
    "\n",
    "![Dataset de CIFAR10](https://miro.medium.com/max/552/1*6XQqOifwnmplS22zCRRVaw.png)"
   ]
  },
  {
   "cell_type": "markdown",
   "metadata": {
    "colab_type": "text",
    "id": "Ay0WGnbF5rHl"
   },
   "source": [
    "## Arquitectura de la Red\n",
    "La red recibe como entrada imagenes a color (RGB) de 32x32 piexeles y su salida sera un vector con las probabilidades de cada una de las 10 clases del dataset.\n",
    "\n",
    "Primero vamos a importar las dependencias necesarias:\n",
    "\n",
    "`Keras`: Es una API de redes neuronales de alto nivel, escrita en Python y capaz de ejecutarse sobre TensorFlow.\n",
    "\n",
    "`Numpy`: Es el paquete fundamental para la computación científica con Python\n",
    "\n",
    "`Matplotlib`: Es una biblioteca completa para crear visualizaciones estáticas, animadas e interactivas en Python."
   ]
  },
  {
   "cell_type": "code",
   "execution_count": 8,
   "metadata": {
    "colab": {
     "base_uri": "https://localhost:8080/",
     "height": 34
    },
    "colab_type": "code",
    "executionInfo": {
     "elapsed": 2222,
     "status": "ok",
     "timestamp": 1586903861631,
     "user": {
      "displayName": "Luis Castillo",
      "photoUrl": "",
      "userId": "10372702928799785570"
     },
     "user_tz": 300
    },
    "id": "Er8P76AN6zPU",
    "outputId": "e3c8cb46-a36a-4535-dd19-d50a04b134bb"
   },
   "outputs": [
    {
     "name": "stderr",
     "output_type": "stream",
     "text": [
      "Using TensorFlow backend.\n"
     ]
    }
   ],
   "source": [
    "from keras.models import Sequential\n",
    "from keras.layers import Dense, Dropout, Flatten, Conv2D, MaxPooling2D\n",
    "from keras.preprocessing import image\n",
    "from keras.utils.vis_utils import plot_model\n",
    "import numpy as np\n",
    "import matplotlib.pyplot as plt"
   ]
  },
  {
   "cell_type": "markdown",
   "metadata": {
    "colab_type": "text",
    "id": "r5MNV0ZH8GWI"
   },
   "source": [
    "Ahora vamos a definir nuestro  modelo de red neuronal, hacer esto en keras es muy sencillo:"
   ]
  },
  {
   "cell_type": "code",
   "execution_count": null,
   "metadata": {
    "colab": {},
    "colab_type": "code",
    "id": "1SIQmQ8E86QC"
   },
   "outputs": [],
   "source": [
    "# Se crea el objeto modelo al cual se añadiran las capas\n",
    "model = Sequential()\n",
    "\n",
    "# Se añande el primer bloque convulucional\n",
    "model.add(Conv2D(32, (3, 3), padding='same', input_shape=(32, 32, 3), activation=\"relu\"))\n",
    "model.add(Conv2D(32, (3, 3), activation=\"relu\"))\n",
    "model.add(MaxPooling2D(pool_size=(2, 2)))\n",
    "model.add(Dropout(0.25))\n",
    "\n",
    "# Se añade un segundo bloque convulucional\n",
    "model.add(Conv2D(64, (3, 3), padding='same', activation=\"relu\"))\n",
    "model.add(Conv2D(64, (3, 3), activation=\"relu\"))\n",
    "model.add(MaxPooling2D(pool_size=(2, 2)))\n",
    "model.add(Dropout(0.25))\n",
    "\n",
    "# Bloque de capas final\n",
    "model.add(Flatten())\n",
    "model.add(Dense(512, activation=\"relu\"))\n",
    "model.add(Dropout(0.5))\n",
    "model.add(Dense(10, activation=\"softmax\"))\n",
    "\n",
    "# Se compila el modelo\n",
    "model.compile(\n",
    "    loss='categorical_crossentropy',\n",
    "    optimizer='adam',\n",
    "    metrics=['accuracy']\n",
    ")\n",
    "\n",
    "# Imprime un resumen con las caracteristicas del modelo\n",
    "model.summary()"
   ]
  },
  {
   "cell_type": "markdown",
   "metadata": {
    "colab_type": "text",
    "id": "iKE_zD2k98BU"
   },
   "source": [
    "En el anterior bloque se define la arquitectura de la red y se imprime un resumen con cada una de las capas que conforman la red y sus caracteristicas. Pero tambien se puede hacer una representacion grafica del modelo:"
   ]
  },
  {
   "cell_type": "code",
   "execution_count": null,
   "metadata": {
    "colab": {},
    "colab_type": "code",
    "id": "CbiBSNau-T_q"
   },
   "outputs": [],
   "source": [
    "# Crea una representacion grafica del modelo\n",
    "plot_model(model, to_file='model_plot.png', show_shapes=True, show_layer_names=True)"
   ]
  },
  {
   "cell_type": "markdown",
   "metadata": {
    "colab_type": "text",
    "id": "pz1p2qwTvB_s"
   },
   "source": [
    "## Entrenamiento de la red\n",
    "Para fines practicos se proporcionan los parametros de la red ya entrenada con el dataset de CIFAR10. EL siguiente bloque de codigo se encarga de la descarga y el desempaquetado"
   ]
  },
  {
   "cell_type": "code",
   "execution_count": null,
   "metadata": {
    "colab": {},
    "colab_type": "code",
    "id": "zl3zoWjuvOd0"
   },
   "outputs": [],
   "source": [
    "!wget --load-cookies /tmp/cookies.txt \"https://docs.google.com/uc?export=download&confirm=$(wget --quiet --save-cookies /tmp/cookies.txt --keep-session-cookies --no-check-certificate 'https://docs.google.com/uc?export=download&id=1vkotuwIO04dtr5O1C1ECOmnbcmIQog9U' -O- | sed -rn 's/.*confirm=([0-9A-Za-z_]+).*/\\1\\n/p')&id=1vkotuwIO04dtr5O1C1ECOmnbcmIQog9U\" -O model_weights.tar && rm -rf /tmp/cookies.txt\n",
    "!tar -xvf model_weights.tar"
   ]
  },
  {
   "cell_type": "markdown",
   "metadata": {
    "colab_type": "text",
    "id": "yXmNyMth0h1e"
   },
   "source": [
    "Ahora que se descargo el archivo con los parametros de la red, los cargamos a nuestro modelo"
   ]
  },
  {
   "cell_type": "code",
   "execution_count": null,
   "metadata": {
    "colab": {},
    "colab_type": "code",
    "id": "JtNr8_-400qm"
   },
   "outputs": [],
   "source": [
    "# Carga los pesos de un modelo ya entrenado\n",
    "model.load_weights(\"model_weights.h5\")\n",
    "\n",
    "# Estas son las etiquetas de las clases del dataset de CIFAR10\n",
    "class_labels = [\"Plane\",\"Car\",\"Bird\",\"Cat\",\"Deer\",\"Dog\",\"Frog\",\"Horse\",\"Boat\",\"Truck\"]"
   ]
  },
  {
   "cell_type": "markdown",
   "metadata": {
    "colab_type": "text",
    "id": "o5XYkqYTw6Dc"
   },
   "source": [
    "## Prueba de la red"
   ]
  },
  {
   "cell_type": "markdown",
   "metadata": {
    "colab_type": "text",
    "id": "54Em7SlB068u"
   },
   "source": [
    "Solo resta cargar una imagen de prueba, convertirla a un arreglo compatible con nuestra capa de entrada y realizar la inferecia."
   ]
  },
  {
   "cell_type": "code",
   "execution_count": null,
   "metadata": {
    "colab": {},
    "colab_type": "code",
    "id": "t5zuL2081fqn"
   },
   "outputs": [],
   "source": [
    "# Carga la imagen de prueba y la reescala a 32 x 32 pixeles\n",
    "img = image.load_img(\"media/car.png\", target_size=(32, 32))  # puedes cambiar la imagen\n",
    "\n",
    "# Convierte la imagen en un arreglo de numpy\n",
    "image_to_test = image.img_to_array(img)\n",
    "\n",
    "# Agrega una dimesion aextra al arreglo (esto por que Keras espera un arreglo de imagenes)\n",
    "list_of_images = np.expand_dims(image_to_test, axis=0)\n",
    "\n",
    "# Realiza la inferencia utilizando al modelo\n",
    "results = model.predict(list_of_images)\n",
    "\n",
    "# Se grafican los resultados de la inferencia\n",
    "result = results[0]\n",
    "plt.bar(np.arange(len(result)), result, width=0.75, tick_label = class_labels)\n",
    "plt.ylabel('Probabilidad')\n",
    "plt.title('Resultados de la inferencia')\n",
    "plt.show()"
   ]
  }
 ],
 "metadata": {
  "colab": {
   "authorship_tag": "ABX9TyPr4rgKwoJthXdMoLKxQfUj",
   "collapsed_sections": [],
   "name": "CNN_example.ipynb",
   "provenance": [],
   "toc_visible": true
  },
  "kernelspec": {
   "display_name": "Python 3 (ipykernel)",
   "language": "python",
   "name": "python3"
  },
  "language_info": {
   "codemirror_mode": {
    "name": "ipython",
    "version": 3
   },
   "file_extension": ".py",
   "mimetype": "text/x-python",
   "name": "python",
   "nbconvert_exporter": "python",
   "pygments_lexer": "ipython3",
   "version": "3.13.5"
  }
 },
 "nbformat": 4,
 "nbformat_minor": 4
}
