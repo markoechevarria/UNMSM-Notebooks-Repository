{
 "cells": [
  {
   "cell_type": "markdown",
   "id": "a09cae51",
   "metadata": {},
   "source": [
    "#  Introducción a Python para métodos numéricos(FISI-UNMSM)"
   ]
  },
  {
   "cell_type": "markdown",
   "id": "3c1a14ee",
   "metadata": {},
   "source": [
    "\n",
    "Python es un lenguaje de programación versátil y de código abierto que ha ganado popularidad significativa en el ámbito de los métodos numéricos y la computación científica. Su sintaxis clara y legible, junto con una amplia variedad de bibliotecas especializadas, como NumPy y SciPy, lo convierten en una opción excepcional para la implementación de algoritmos numéricos y análisis matemático. A diferencia de algunos programas especializados, Python es fácil de aprender y ofrece una amplia comunidad de usuarios que comparten conocimientos y recursos. Además, la capacidad de integrar Python con otros lenguajes y su amplio soporte para diversas plataformas hacen que sea una elección conveniente y poderosa para profesionales y estudiantes que buscan una herramienta flexible y eficiente en el ámbito de los métodos numéricos. Su enfoque de código abierto y su capacidad para abordar problemas complejos en ciencia e ingeniería han consolidado a Python como una opción líder para aquellos que buscan implementar y comprender métodos numéricos de manera efectiva."
   ]
  },
  {
   "cell_type": "markdown",
   "id": "06a18864",
   "metadata": {},
   "source": [
    "##   Tipos de datos en Python"
   ]
  },
  {
   "cell_type": "markdown",
   "id": "29202c26",
   "metadata": {},
   "source": [
    "Los datos o variables en Python tienen ciertas caracteristicas, tales como:\n",
    "\n",
    "* **Las colecciones** son objetos que contienen a otros objetos. A los objetos contenidos también se les refiere como elementos.\n",
    "\n",
    "* **Los tipos indexables** tienen la capacidad de asignar a cada uno de los elementos que contienen un identificador único (índice) que puede consistir en un número entero o una clave dependiendo del tipo del que se trate.\n",
    "\n",
    "* **Los tipos mutables** permiten eliminar, sustituir e incluso añadir elementos a su contenido.\n",
    "\n",
    "La siguiente tabla resume y describe los tipos de datos básicos de Python: \n",
    "\n",
    "|Tipo de dato|Colección|Indexable|Mutable|Contenido|Ejemplo|\n",
    "|:-----------:|:--:|:--:|:--:|:----:|:-----|\n",
    "|```int```|NO|NO|NO|Números enteros|```-12```|\n",
    "|```float```|NO|NO|NO|Números de punto flotante|```4.361```|\n",
    "|```complex```|NO|NO|NO|Números complejos|```(41.6-11.3j)```|\n",
    "|```bool```|NO|NO|NO|Valores booleanos|```True y False```|\n",
    "|```NoneType```|NO|NO|NO|Sin valor|```None```|\n",
    "|```str```|SÍ|Numérico|NO|Caracteres Unicode|```'Gödel'```|\n",
    "|```bytes```|SÍ|Numérico|NO|Caracteres ASCII|```b'Hola'```|\n",
    "|```bytearray```|SÍ|Numérico|SÍ|Caracteres ASCII|```bytearray(b'Hola')```|\n",
    "|```list```|SÍ|Numérico|SÍ|Cualquier objeto|```[1, 2.0, 'Tres']```|\n",
    "|```tuple```|SÍ|Numérico|NO|Cualquier objeto|```(1, 2.0, 'Tres')```|\n",
    "|```dict```|SÍ|Por clave|Sí|Pares *clave:valor*|```{'nombre':'Juan', 'promedio':10}```|\n",
    "|```set```|SÍ|NO|SÍ|Objetos inmutables|```{1, False, 'María'}```|\n",
    "|```frozenset```|SÍ|NO|NO|Objetos inmutables|```frozenset({{1, False, 'María'})```|\n",
    "\n",
    "Para identificar el tipo de variable o dato, es suficiente digitar en una celda: **type**(variable).  Para los indexables, Python empieza a indexar de izquierda a derecha y siempre empieza con el índize cero. Para saber, el caracter en una posición de un objeto, digite **nobreDelObjeto**[posición]. Por ejemplo\n"
   ]
  },
  {
   "cell_type": "code",
   "execution_count": 4,
   "id": "e25d4523",
   "metadata": {},
   "outputs": [],
   "source": [
    "objeto='Métodos numéricos'"
   ]
  },
  {
   "cell_type": "code",
   "execution_count": 5,
   "id": "9e5e8710",
   "metadata": {
    "scrolled": true
   },
   "outputs": [
    {
     "data": {
      "text/plain": [
       "'o'"
      ]
     },
     "execution_count": 5,
     "metadata": {},
     "output_type": "execute_result"
    }
   ],
   "source": [
    "objeto[5] # Ubica el caracter en la posición 5 ( contando desde cero, de izquierda a derecha)"
   ]
  },
  {
   "cell_type": "code",
   "execution_count": 3,
   "id": "19cdd307",
   "metadata": {},
   "outputs": [
    {
     "data": {
      "text/plain": [
       "bool"
      ]
     },
     "execution_count": 3,
     "metadata": {},
     "output_type": "execute_result"
    }
   ],
   "source": [
    "type(True)"
   ]
  },
  {
   "cell_type": "markdown",
   "id": "ebe31026",
   "metadata": {},
   "source": [
    "##    Palabras reservadas de *Python*."
   ]
  },
  {
   "cell_type": "markdown",
   "id": "c7dba4dd",
   "metadata": {},
   "source": [
    "Las palabras reservadas (*keywords*) corresponden a los nombres de comandos que el intérprete de *Python* incluye por defecto. No se deben utilizar dichas palabras para asignar nombres a otros objetos.\n",
    "\n",
    "El listado de palabras reservadas puede ser consultado ingresando ```help('keywords')``` desde la interfaz interactiva."
   ]
  },
  {
   "cell_type": "code",
   "execution_count": 4,
   "id": "c950ead8",
   "metadata": {},
   "outputs": [
    {
     "name": "stdout",
     "output_type": "stream",
     "text": [
      "\n",
      "Here is a list of the Python keywords.  Enter any keyword to get more help.\n",
      "\n",
      "False               class               from                or\n",
      "None                continue            global              pass\n",
      "True                def                 if                  raise\n",
      "and                 del                 import              return\n",
      "as                  elif                in                  try\n",
      "assert              else                is                  while\n",
      "async               except              lambda              with\n",
      "await               finally             nonlocal            yield\n",
      "break               for                 not                 \n",
      "\n"
     ]
    }
   ],
   "source": [
    "help(\"keywords\")"
   ]
  },
  {
   "cell_type": "markdown",
   "id": "f366db0f",
   "metadata": {},
   "source": [
    "###   El operador de asignación $=$"
   ]
  },
  {
   "cell_type": "markdown",
   "id": "609a6b55",
   "metadata": {},
   "source": [
    "Para relacionar a un nombre con un objeto, se utiliza el el operador de asignación $=$ con la siguiente sintaxis:\n",
    "**nombre = objeto**. Por ejemplo:"
   ]
  },
  {
   "cell_type": "code",
   "execution_count": 3,
   "id": "f4931b10",
   "metadata": {},
   "outputs": [],
   "source": [
    "a=5\n",
    "b=False\n",
    "c=2+3j\n",
    "d='Métodos numéricos'\n",
    "e=[2,'a',9]"
   ]
  },
  {
   "cell_type": "markdown",
   "id": "b4b01cfe",
   "metadata": {},
   "source": [
    "Si queremos saber el valor de una variable, digite en una celda: **print**(variable). Por ejemplo:"
   ]
  },
  {
   "cell_type": "code",
   "execution_count": 6,
   "id": "38756a91",
   "metadata": {},
   "outputs": [
    {
     "name": "stdout",
     "output_type": "stream",
     "text": [
      "5 False [2, 'a', 9]\n"
     ]
    }
   ],
   "source": [
    "print(a,b,e)"
   ]
  },
  {
   "cell_type": "markdown",
   "id": "1c0bf534",
   "metadata": {},
   "source": [
    "El comando 'print' sirve para mostrar lo que queramos, pero siempre hay que tener en cuenta el tipo de datos que se quieran mostrar. Datos diferentes se separan con una coma. Por ejemplo:"
   ]
  },
  {
   "cell_type": "code",
   "execution_count": 7,
   "id": "38f3acc8",
   "metadata": {},
   "outputs": [
    {
     "name": "stdout",
     "output_type": "stream",
     "text": [
      "El número complejo es : (2+3j)\n"
     ]
    }
   ],
   "source": [
    "print('El número complejo es :', c )"
   ]
  },
  {
   "cell_type": "markdown",
   "id": "b28e15ed",
   "metadata": {},
   "source": [
    "#### Asignación de múltiples nombres a igual número de objetos"
   ]
  },
  {
   "cell_type": "markdown",
   "id": "325e7350",
   "metadata": {},
   "source": [
    "Es posible asignar a varios nombres un número igual de objetos usando un sólo operador de asignación mediante la siguiente sintaxis:\n",
    "\n",
    "```\n",
    "nombre 1, nombre 2, nombre 3, ..., nombre n = objeto 1, objeto 2, objeto 3, ...,objeto n```\n",
    "\n",
    "**Ejemplo**"
   ]
  },
  {
   "cell_type": "code",
   "execution_count": 8,
   "id": "326a319e",
   "metadata": {},
   "outputs": [],
   "source": [
    "dato1, dato2, dato3, dato4,dato5 = 8, 1.05, (12.3 + 23j), True,'Matemáticas'"
   ]
  },
  {
   "cell_type": "markdown",
   "id": "26f21c73",
   "metadata": {},
   "source": [
    "Para mostrar el valor de cada variable, usar el comando **print**."
   ]
  },
  {
   "cell_type": "code",
   "execution_count": 9,
   "id": "d2e4e7d9",
   "metadata": {},
   "outputs": [
    {
     "name": "stdout",
     "output_type": "stream",
     "text": [
      "1.05\n"
     ]
    }
   ],
   "source": [
    "print(dato2)"
   ]
  },
  {
   "cell_type": "markdown",
   "id": "71ac13c7",
   "metadata": {},
   "source": [
    "###   Sintaxis para la elaboración de nombres en *Python 3*"
   ]
  },
  {
   "cell_type": "markdown",
   "id": "e4448a38",
   "metadata": {},
   "source": [
    "* *Python 3* acepta el uso de [*Unicode*](https://es.wikipedia.org/wiki/Unicode), por lo que es posible utilizar cualquier caracter alfabético, incluso aquellos que no pertencen al alfabeto occidental para la elaboración de nombres.\n",
    "* Los nombres pueden empezar con un guión bajo ```_``` o un caracter alfabético.\n",
    "* Después del primer caracter, se pueden utilizar caracteres alfabéticos, números y/o guiones bajos.\n",
    "* No se permiten caracteres distintos a los alfabéticos o que pudieran confundirse con operadores como ```|```, ```~```, ```#```, ```-```, etc.\n",
    "* Se pueden utilizar mayúsculas, pero cabe señalar que *Python* es sensible a mayúsculas."
   ]
  },
  {
   "cell_type": "markdown",
   "id": "69c8b17a",
   "metadata": {},
   "source": [
    "**Ejemplos:**"
   ]
  },
  {
   "cell_type": "markdown",
   "id": "7257252e",
   "metadata": {},
   "source": [
    "* Las siguientes celdas contienen asignaciones con nombres que se apegan a la sintaxis correcta"
   ]
  },
  {
   "cell_type": "code",
   "execution_count": 10,
   "id": "e8f2c37c",
   "metadata": {},
   "outputs": [],
   "source": [
    "_curso='Métodos numéricos'\n",
    "numero_de_alumnos=52\n",
    "Facultad=\"FISI\""
   ]
  },
  {
   "cell_type": "markdown",
   "id": "25f8a009",
   "metadata": {},
   "source": [
    "### Eliminación de nombres mediante la declaración ```del```."
   ]
  },
  {
   "cell_type": "markdown",
   "id": "9ade8e8e",
   "metadata": {},
   "source": [
    "La declaración ```del``` funciona de la siguiente manera:\n",
    "\n",
    "* Desliga al nombre de un objeto en el espacio de nombres.\n",
    "* Elimina al nombre del espacio de nombres.\n",
    "* En caso de que el objeto no esté ligado a otro nombre en el espacio de nombres, el intérprete de *Python* podría desecharlo de forma automática.\n",
    "    \n",
    "El modo en el que un objeto puede ser destruido varía dependiendo del tipo de objeto."
   ]
  },
  {
   "cell_type": "markdown",
   "id": "7ff45082",
   "metadata": {},
   "source": [
    "**Ejemplo:**\n",
    "* Se creará el objeto ```\"cantidad_de_asistentes\"```"
   ]
  },
  {
   "cell_type": "code",
   "execution_count": 11,
   "id": "75e7d775",
   "metadata": {},
   "outputs": [],
   "source": [
    "cantidad_de_asistentes=80"
   ]
  },
  {
   "cell_type": "code",
   "execution_count": 12,
   "id": "6dfc92d6",
   "metadata": {},
   "outputs": [
    {
     "data": {
      "text/plain": [
       "80"
      ]
     },
     "execution_count": 12,
     "metadata": {},
     "output_type": "execute_result"
    }
   ],
   "source": [
    "cantidad_de_asistentes"
   ]
  },
  {
   "cell_type": "markdown",
   "id": "3b99eb33",
   "metadata": {},
   "source": [
    "Ahora aplicamos **del**"
   ]
  },
  {
   "cell_type": "code",
   "execution_count": 13,
   "id": "bf081866",
   "metadata": {},
   "outputs": [],
   "source": [
    "del cantidad_de_asistentes"
   ]
  },
  {
   "cell_type": "markdown",
   "id": "8a71b805",
   "metadata": {},
   "source": [
    "Ahora la variable ```\"cantidad_de_asistentes\"``` se ha borrado, veamos:"
   ]
  },
  {
   "cell_type": "code",
   "execution_count": 14,
   "id": "6fb13ac4",
   "metadata": {},
   "outputs": [
    {
     "ename": "NameError",
     "evalue": "name 'cantidad_de_asistentes' is not defined",
     "output_type": "error",
     "traceback": [
      "\u001b[1;31m---------------------------------------------------------------------------\u001b[0m",
      "\u001b[1;31mNameError\u001b[0m                                 Traceback (most recent call last)",
      "Cell \u001b[1;32mIn[14], line 1\u001b[0m\n\u001b[1;32m----> 1\u001b[0m cantidad_de_asistentes\n",
      "\u001b[1;31mNameError\u001b[0m: name 'cantidad_de_asistentes' is not defined"
     ]
    }
   ],
   "source": [
    "cantidad_de_asistentes"
   ]
  },
  {
   "cell_type": "markdown",
   "id": "f95d9482",
   "metadata": {},
   "source": [
    "###   La función  input"
   ]
  },
  {
   "cell_type": "markdown",
   "id": "52f22a49",
   "metadata": {},
   "source": [
    "La función **input** toma un **string** como argumento y devuelve un **string** y es. Por ejemplo:"
   ]
  },
  {
   "cell_type": "code",
   "execution_count": null,
   "id": "1c1d8a5c",
   "metadata": {},
   "outputs": [],
   "source": [
    "input('Escriba su curso favorito: ')"
   ]
  },
  {
   "cell_type": "markdown",
   "id": "db88d37f",
   "metadata": {},
   "source": [
    "Es claro que podemos almacenar el string obtenido por el input"
   ]
  },
  {
   "cell_type": "code",
   "execution_count": null,
   "id": "e22db588",
   "metadata": {},
   "outputs": [],
   "source": [
    "a=input('Ingrese su edad: ')"
   ]
  },
  {
   "cell_type": "code",
   "execution_count": null,
   "id": "bdf2d134",
   "metadata": {},
   "outputs": [],
   "source": [
    "print(a)"
   ]
  },
  {
   "cell_type": "markdown",
   "id": "2c701e9c",
   "metadata": {},
   "source": [
    "A pesar de que ingresamos un número, ahora es un string y no podemos hacer operaciones matemáticas con este."
   ]
  },
  {
   "cell_type": "code",
   "execution_count": null,
   "id": "f22bafa9",
   "metadata": {},
   "outputs": [],
   "source": [
    "type(a)"
   ]
  },
  {
   "cell_type": "code",
   "execution_count": null,
   "id": "f76f8a2b",
   "metadata": {},
   "outputs": [],
   "source": [
    "a+5"
   ]
  },
  {
   "cell_type": "markdown",
   "id": "803089ae",
   "metadata": {},
   "source": [
    "Para convertir a float o int, proceda de la siguiente manera"
   ]
  },
  {
   "cell_type": "code",
   "execution_count": null,
   "id": "bb5a73d7",
   "metadata": {},
   "outputs": [],
   "source": [
    "float(a)"
   ]
  },
  {
   "cell_type": "code",
   "execution_count": null,
   "id": "5b29a66d",
   "metadata": {},
   "outputs": [],
   "source": [
    "float(a)+5"
   ]
  },
  {
   "cell_type": "markdown",
   "id": "33e8d559",
   "metadata": {},
   "source": [
    "Puede pedir que el dato input sea un entero o flotante de un solo paso, como el siguiente:"
   ]
  },
  {
   "cell_type": "code",
   "execution_count": null,
   "id": "cd1d5755",
   "metadata": {},
   "outputs": [],
   "source": [
    "c=float(input('Ingrese el primer sumando: '))\n",
    "d=int(input('Ingrese el segundo sumando: '))"
   ]
  },
  {
   "cell_type": "code",
   "execution_count": null,
   "id": "f0f896c5",
   "metadata": {},
   "outputs": [],
   "source": [
    "c+d"
   ]
  },
  {
   "cell_type": "markdown",
   "id": "8ae96ab9",
   "metadata": {},
   "source": [
    "## Función Print"
   ]
  },
  {
   "cell_type": "code",
   "execution_count": null,
   "id": "c64ef71c",
   "metadata": {},
   "outputs": [],
   "source": [
    "# Definir una variable\n",
    "nombre = \"Juan\"\n",
    "\n",
    "# Utilizando f-string\n",
    "print(nombre)  # f-string: Interpolación directa de variables en la cadena\n",
    "\n",
    "# Utilizando concatenación de cadenas\n",
    "print(\"2.  ¡Hola, \" + nombre + \"!\")  # Concatenación de cadenas utilizando el operador +\n",
    "\n",
    "# Mostrando con diferentes formatos\n",
    "numero = 42\n",
    "print(\"3. El número es:\", numero)  # Múltiples argumentos en print\n",
    "print(\"4. El número es: %d\" % numero)  # Operador % para formatear un entero\n"
   ]
  },
  {
   "cell_type": "markdown",
   "id": "58bdc26b",
   "metadata": {},
   "source": [
    "##   Operadores "
   ]
  },
  {
   "cell_type": "markdown",
   "id": "f10a8d46",
   "metadata": {},
   "source": [
    "Los operadores en Python son funciones que pueden identificarse mediante símbolos, como +, o palabras especiales. En Python, aunque estos operadores están predefinidos, el programador tiene la capacidad de redefinirlos. Los operadores se clasifican según el número de argumentos que toman: son unitarios si tienen un solo argumento y binarios si su evaluación depende de dos argumentos.\n",
    "\n",
    "En el ejemplo de 12 + 6, el + actúa como un operador binario con argumentos las expresiones 12 y 6, que son constantes literarias. La interpretación de + depende del tipo de objetos utilizados como argumentos. Cuando los argumentos son números enteros, se aplica el algoritmo de suma, devolviendo un número entero.\n",
    "\n",
    "A continuación, se presenta una tabla con algunos operadores binarios en Python:\n",
    "\n",
    "| Operador | Nombre | Explicación |\n",
    "|----------|--------|-------------|\n",
    "| +        | Adición | Suma dos objetos |\n",
    "| -        | Resta   | Define un número negativo o la resta de un número por otro |\n",
    "| *        | Multiplicación | Devuelve el producto de dos números o una cadena repetida un cierto número de veces |\n",
    "| **       | Potencia | Devuelve x elevado a la potencia de y |\n",
    "| /        | División | Divide x por y |\n",
    "| //       | División Entera | Devuelve la parte entera del cociente |\n",
    "| %        | Módulo | Devuelve el resto de la división de enteros |\n",
    "| <        | Menos que | Compara x con y. Devuelve True si x es menor que y, y False en caso contrario |\n",
    "| >        | Mayor que | Devuelve True si x es mayor que y, y False en caso contrario |\n",
    "| <=       | Menor o igual que | Devuelve True si x es menor o igual que y, y False en caso contrario |\n",
    "| >=       | Mayor o igual que | Devuelve True si x es mayor o igual que y, y False en caso contrario |\n",
    "| ==       | Igual a | Evalúa si los objetos son iguales |\n",
    "| !=       | Diferente de | Evalúa si los objetos son diferentes |\n",
    "| not      | Operador booleano NOT | ¬x: devuelve False si x es Verdadero, y True si x es Falso |\n",
    "| and      | Operador booleano AND | x ∧ y: devuelve False si x es Falso, de lo contrario, devuelve la evaluación de y |\n",
    "| or       | Operador booleano OR | x ∨ y: devuelve True si uno de las variables es True, y la evaluación de False en caso contrario |\n"
   ]
  },
  {
   "cell_type": "markdown",
   "id": "7c2b15a4",
   "metadata": {},
   "source": [
    "##    Control de flujo del programa"
   ]
  },
  {
   "cell_type": "markdown",
   "id": "083403ee",
   "metadata": {},
   "source": [
    "###   La instrucción if \n",
    "\n",
    "La instrucción **if** en Python es una estructura de control que permite ejecutar un bloque de código si se cumple una condición dada. La sintaxis básica es la siguiente:\n"
   ]
  },
  {
   "cell_type": "markdown",
   "id": "97c4a017",
   "metadata": {},
   "source": [
    "**if** `condición 1`**:**\n",
    "\n",
    "    - Si la condición 1 es verdadera se ejecutará este bloque.\n",
    "\n",
    "**elif** `condición 2` **:**\n",
    "\n",
    "     -Si esta la condición 2 es verdadera y la condición 1 es falsa, se ejecutará este bloque.\n",
    "\n",
    "**elif** `condición 3` **:**\n",
    "\n",
    "     -Si esta la condición 3 es verdadera y todas las anteriores son falsas, se ejecutará este bloque.\n",
    "     \n",
    " **.**\n",
    " \n",
    " **.**\n",
    "  \n",
    " **.**\n",
    " \n",
    " **elif** `condición k` **:**\n",
    "\n",
    "     -Si esta la condición k es verdadera y todas las anteriores son falsas, se ejecutará este bloque.\n",
    " \n",
    " \n",
    "\n",
    "**else** **:**\n",
    "\n",
    "    -Si ninguna de todas las condiciones anteriores son falsas, se ejecutará este bloque\n",
    "\n"
   ]
  },
  {
   "cell_type": "code",
   "execution_count": null,
   "id": "4ea508f0",
   "metadata": {
    "scrolled": true
   },
   "outputs": [],
   "source": [
    "edad=int(input('Ingrese su edad: '))\n",
    "print(edad)\n",
    "if edad < 18:\n",
    "    print(\"Eres menor de edad.\")\n",
    "elif 18 <= edad < 65:\n",
    "    print(\"Eres adulto.\")\n",
    "else:\n",
    "    print(\"Eres un adulto mayor.\")\n"
   ]
  },
  {
   "cell_type": "markdown",
   "id": "1819ada6",
   "metadata": {},
   "source": [
    "**Ejercicio:**  Usando la condicional if, pida  al alumno ingresar un número de una nota y devuelva las siguientes respuestas:\n",
    "\n",
    "(a) Si la nota es menor que 8,  devolver: Desaprobado\n",
    "\n",
    "(b) Si la nota es mayor o igual 8 y menor que 10.5,  devolver: A recuperación\n",
    "\n",
    "(c) Si la nota es mayor o igual que 10.5,  devolver: Aprobado.\n",
    "\n",
    "(d) Si el valor ingresado es incorrecto, devolver: La nota ingresada no es correcta"
   ]
  },
  {
   "cell_type": "markdown",
   "id": "5846c762",
   "metadata": {},
   "source": [
    "#### Ejemplo de condicionales anidados\n",
    "Aún cuandolas estruturas ```if```...```elif```...```else``` pueden cubrir muchos casos, es común anidar declaraciones condicionales dentro de otras declaraciones condicionales tal como se ilustra a continuación."
   ]
  },
  {
   "cell_type": "code",
   "execution_count": null,
   "id": "cefa76ea",
   "metadata": {},
   "outputs": [],
   "source": [
    "\"\"\"Ejemplo sobre el uso de condicionales anidados. Validará si un valor \n",
    "ingresado sea entero, además de validar si es positivo o negativo.\"\"\"\n",
    "\n",
    "dato_texto = input('Ingrese un número entero: ')\n",
    "dato = eval(dato_texto) #Devuelve el valor numerico del string ingresado\n",
    "if type(dato) is int: # Si el tipo de  dato es entero, entonces\n",
    "    print('Es un entero.')\n",
    "    if dato < 0:\n",
    "        print('Es negativo.')\n",
    "    elif dato > 0:\n",
    "        print('Es positivo.')\n",
    "    else:\n",
    "        print('Es cero')\n",
    "else:\n",
    "    print('No es un entero.')"
   ]
  },
  {
   "cell_type": "markdown",
   "id": "09a50022",
   "metadata": {},
   "source": [
    "\n",
    "###   La instrución   ```for```.\n",
    "\n",
    "\n",
    "#### Objetos iterables.\n",
    "\n",
    "Una de las grandes fortalezas de Python es la de poder de realizar iteraciones de forma dinámica a partir de diversos objetos \"iterables\", los cuales son colecciones de objetos con métodos capaces de regresar elementos de uno en uno.\n",
    "\n",
    "Algunos tipos iterables son:\n",
    "\n",
    "* ```str```.\n",
    "* ```list```.\n",
    "* ```set```.\n",
    "* ```bytes```.\n",
    "* ```frozenset```.\n",
    "* ```tuple```.\n",
    "* ```dict```.\n",
    "* ```bytearray```.\n",
    "\n",
    "Para iterar un objeto iterable se utiliza la siguiente sintaxis:\n",
    "\n",
    "\n",
    "**for** `variable` **in** `iterable` **:**\n",
    "    \n",
    "    - El código se ejecuta para cada elemento en la secuencia\n",
    "    "
   ]
  },
  {
   "cell_type": "markdown",
   "id": "7dde510b",
   "metadata": {},
   "source": [
    "**Ejemplos:**"
   ]
  },
  {
   "cell_type": "code",
   "execution_count": null,
   "id": "fbd31a63",
   "metadata": {},
   "outputs": [],
   "source": [
    "# Supongamos que tenemos una lista de números\n",
    "numeros = [1, 3, 5, 7, 9]\n",
    "\n",
    "# Iterar sobre la lista e imprimir cada número\n",
    "for numero in numeros:\n",
    "    print(f\"El número actual es: {numero}\")\n",
    "\n",
    "# También podemos usar la función range para iterar sobre un rango de números\n",
    "for i in range(3):\n",
    "    print(f\"Iteración número: {i}\")\n"
   ]
  },
  {
   "cell_type": "markdown",
   "id": "656b4351",
   "metadata": {},
   "source": [
    "Podemos hacer mas complejo aun nuestro programa anterior, observe:"
   ]
  },
  {
   "cell_type": "code",
   "execution_count": 6,
   "id": "b20d3e53",
   "metadata": {},
   "outputs": [
    {
     "name": "stdout",
     "output_type": "stream",
     "text": [
      "La letra  1  es:  M\n",
      "La letra  2  es:  é\n",
      "La letra  3  es:  t\n",
      "La letra  4  es:  o\n",
      "La letra  5  es:  d\n",
      "La letra  6  es:  o\n",
      "La letra  7  es:  s\n",
      "La letra  8  es:   \n",
      "La letra  9  es:  n\n",
      "La letra  10  es:  u\n",
      "La letra  11  es:  m\n",
      "La letra  12  es:  é\n",
      "La letra  13  es:  r\n",
      "La letra  14  es:  i\n",
      "La letra  15  es:  c\n",
      "La letra  16  es:  o\n",
      "La letra  17  es:  s\n"
     ]
    }
   ],
   "source": [
    "i=1\n",
    "for letra in \"Métodos numéricos\":\n",
    "    print('La letra ',i, ' es: ',letra)\n",
    "    i=i+1 # Aqui puedes usar i+=1"
   ]
  },
  {
   "cell_type": "markdown",
   "id": "ebfad244",
   "metadata": {},
   "source": [
    "Lo mismo podemos hacer para listas y conjuntos:"
   ]
  },
  {
   "cell_type": "code",
   "execution_count": null,
   "id": "71216037",
   "metadata": {
    "scrolled": true
   },
   "outputs": [],
   "source": [
    "j=1\n",
    "for elemento in {'a',True,5,7,'hola','Matemáticas'}:\n",
    "    print('El  elemento ',j, ' es: ',elemento)\n",
    "    j=j+1"
   ]
  },
  {
   "cell_type": "code",
   "execution_count": null,
   "id": "20ba4a8c",
   "metadata": {},
   "outputs": [],
   "source": [
    "A={5,5}\n",
    "A"
   ]
  },
  {
   "cell_type": "markdown",
   "id": "caa88388",
   "metadata": {},
   "source": [
    "#### Iteraciones  con  la función ```range()```\n",
    "La forma más común de realizar iteraciones en otros lenguajes de programación es por medio de rangos numéricos de forma similar a lo que hace la función ```range()```.\n",
    "\n",
    "Esta función es un generador que regresa una sucesión de números en un rango definido.\n",
    "\n",
    "```\n",
    "range(<m>, <n>, <s>)\n",
    "```\n",
    "\n",
    "Donde:\n",
    "\n",
    "* ```<m>``` es el primer número del rango.\n",
    "* ```<n>``` es el valor límite del rango. La sucesión llegará a un número previo a ```n```.\n",
    "* ```<s>``` es a magnitud de los inrementos o decrementos del rango.\n",
    "\n",
    "Si sólo se ingresa un argumento, ese valor se le asignará a ```n```, mientras que ```<m>``` será igual a ```0``` y ```<s>``` será igual a ```1```.\n",
    "\n",
    "Si sólo se ingresan 2 argumentos, el primero se le asignará a ```m```, el segundo a ```<n>``` y ```<s>``` será igual a ```1```.\n",
    "\n",
    "Es posible que el valor de ```<s>``` sea negativo siempre que ```m```, sea menor que ```<n>```."
   ]
  },
  {
   "cell_type": "markdown",
   "id": "b4369d98",
   "metadata": {},
   "source": [
    "**Ejemplos:**\n",
    "* La siguiente celda desplegará una sucesión de números del ```0``` al  ```3``` en incrmentos de  ```1```."
   ]
  },
  {
   "cell_type": "code",
   "execution_count": null,
   "id": "7d1f60cd",
   "metadata": {},
   "outputs": [],
   "source": [
    "\"\"\" Cuenta del 0 hasta 3 en incrementos de a 1.\"\"\"\n",
    "for contador in range(0,4):\n",
    "    print(contador)"
   ]
  },
  {
   "cell_type": "markdown",
   "id": "e1ae23c3",
   "metadata": {},
   "source": [
    "* La siguiente celda desplegará una sucesión de números del ```5``` al  ```9``` en incrementos de  ```1```."
   ]
  },
  {
   "cell_type": "code",
   "execution_count": null,
   "id": "0dff25b0",
   "metadata": {},
   "outputs": [],
   "source": [
    "\"\"\" Cuenta del 5 hasta antes de 16 en incrementos de a 2. \"\"\"\n",
    "for contador in range(5, 15,2):\n",
    "    print(contador)"
   ]
  },
  {
   "cell_type": "markdown",
   "id": "d38d3d57",
   "metadata": {},
   "source": [
    "* La siguiente celda desplegará una sucesión de números del ```15``` al  ```2``` en decrementos de  ```-3```."
   ]
  },
  {
   "cell_type": "code",
   "execution_count": null,
   "id": "d7dd6884",
   "metadata": {},
   "outputs": [],
   "source": [
    "\"\"\" Cuenta del 15 hasta más de 2 en decrementos de a -3. \"\"\"\n",
    "for contador in range(15, 2, -3):\n",
    "    print(contador)"
   ]
  },
  {
   "cell_type": "markdown",
   "id": "a4e96ac0",
   "metadata": {},
   "source": [
    "###  Ciclos con ```while```\n",
    "\n",
    "Python cuenta con la declaración ```while```, la cual permite ejecutar un bloque de código recursivamente mientras se cumpla una condición determinada.\n",
    "\n",
    "**while** ``condición`` **:**\n",
    "\n",
    "    # Código se ejecuta  mientras la condición sea verdadera\n",
    "\n",
    "\n",
    "**Ejemplo:**"
   ]
  },
  {
   "cell_type": "code",
   "execution_count": null,
   "id": "0d5d5d7c",
   "metadata": {},
   "outputs": [],
   "source": [
    "# Inicializar una variable de control\n",
    "contador = 0\n",
    "\n",
    "# Mientras la condición sea verdadera, ejecutar el bloque de código\n",
    "while contador < 5:\n",
    "    print(contador)\n",
    "    contador += 1  # Incrementar el contador en cada iteración\n",
    "\n",
    "# El bucle termina cuando la condición se vuelve falsa\n",
    "print(\"Bucle completado.\")\n"
   ]
  },
  {
   "cell_type": "code",
   "execution_count": null,
   "id": "17b07737",
   "metadata": {},
   "outputs": [],
   "source": [
    "''' Este ciclo se repetirá 3 veces o hasta que se ingrese\n",
    "    la palabra \"despedida\" y desplegará el número de intentos\n",
    "    hasta que cualquiera de los eventos ocurra.'''\n",
    "\n",
    "entrada = \"\"\n",
    "suma = 0\n",
    "while suma < 3 and entrada != \"despedida\":\n",
    "    entrada = input(\"Clave: \")\n",
    "    suma += 1\n",
    "    print(\"Intento %d. \\n \" % suma) # Es lo mismo que  print(\"Intento \",suma)\n",
    "print(\"Utilizaste %d intentos.\" % suma)"
   ]
  },
  {
   "cell_type": "markdown",
   "id": "37ccd5cf",
   "metadata": {},
   "source": [
    "###   Interrupciones de ejecución de un bloque.\n",
    "\n",
    "En ciertas circunstancias es necesario interrumpir el flujo lógico de un programa. Python cuenta con los siguientes recursos para hacerlo.\n",
    "\n",
    "* La palabra reservada ```continue```.\n",
    "* La palabra reservada ```break```.\n",
    "* La función ```exit()```."
   ]
  },
  {
   "cell_type": "markdown",
   "id": "da5c8e47",
   "metadata": {},
   "source": [
    "### Interrupción ```continue```.\n",
    "\n",
    "La palabra reservada ```continue``` termina de forma prematura la ejecución de un bloque dentro de un ciclo."
   ]
  },
  {
   "cell_type": "code",
   "execution_count": null,
   "id": "c1045d40",
   "metadata": {},
   "outputs": [
    {
     "name": "stdout",
     "output_type": "stream",
     "text": [
      "Intento 1.\n"
     ]
    }
   ],
   "source": [
    "''' Este ciclo se repetirá 3 veces y desplegará el número de intentos en los\n",
    "    que se ingresó la palabra \"FISI\".'''\n",
    "\n",
    "entrada = \"\"\n",
    "suma = 0\n",
    "fallido = 0\n",
    "while suma < 3:\n",
    "    suma += 1\n",
    "    print(\"Intento %d.\" % suma)\n",
    "    entrada = input(\"Ingrese el nombre de su facultad:  \")\n",
    "    print()\n",
    "    # Al ingresar \"FISI\", se evita que la variable fallido se incremente.\n",
    "    if entrada == \"FISI\":\n",
    "        continue  \n",
    "    fallido += 1\n",
    "print(\"Tuviste %d intentos fallidos.\" % fallido)"
   ]
  },
  {
   "cell_type": "markdown",
   "id": "1de99e1d",
   "metadata": {},
   "source": [
    "###  Interrupción ```break``` .\n",
    "\n",
    "La palabra reservada ```break``` termina prematuramente la ejecución del bloque de código en el que se encuentra y restablece el flujo de ejecución al bloque de código que lo precede.\n",
    "\n",
    "**NOTA:** ```break``` no sólo se puede aplicar a ciclos o iteraciones, sino también a funciones, métodos y a cualquier elemento que contenga bloques de código ejecutable. "
   ]
  },
  {
   "cell_type": "markdown",
   "id": "0b9bdb82",
   "metadata": {},
   "source": [
    "**Ejemplo:**"
   ]
  },
  {
   "cell_type": "code",
   "execution_count": null,
   "id": "8db588dd",
   "metadata": {},
   "outputs": [],
   "source": [
    "''' Este ciclo se repetirá 3 veces o hasta que se ingrese\n",
    "    la palabra \"FISI\" y desplegará sólo el número de intentos\n",
    "    fallidos hasta que cualquiera de los eventos ocurra.'''\n",
    "\n",
    "suma = 0\n",
    "while suma < 3:\n",
    "    entrada = input(\"Ingrese el nombre de su facultad: \")\n",
    "    #Si se ingresa la palabra \"FISI, se termina el ciclo.\n",
    "    if entrada == \"FISI\":\n",
    "        break\n",
    "    suma = suma + 1\n",
    "    print(\"Intento %d. \\n \" % suma)\n",
    "print(\"Tuviste %d intentos fallidos.\" % suma)"
   ]
  },
  {
   "cell_type": "markdown",
   "id": "c9d0b16a",
   "metadata": {},
   "source": [
    "### Interrupción   ```exit()```.\n",
    "\n",
    "La función ```exit()``` termina la ejecución de un programa y cierra el intérprete de Python.\n",
    "\n",
    "\n",
    "**Observación:** En el caso de las notebooks de Jupyter, cuando el servidor detecta que el kernel se detiene, levanta uno nuevo.\n",
    "\n",
    "**Observación:** Debido a las características de Jupyter, este script debe de ser ejecutado mediante el intérprete convencional de Python."
   ]
  },
  {
   "cell_type": "markdown",
   "id": "1829c4ae",
   "metadata": {},
   "source": [
    "**Ejemplo**"
   ]
  },
  {
   "cell_type": "code",
   "execution_count": null,
   "id": "81345822",
   "metadata": {},
   "outputs": [],
   "source": [
    "''' Este programa se repetirá 3 veces o hasta que se ingrese\n",
    "    la palabra \"despedida\" y desplegará sólo el número de intentos\n",
    "    fallidos hasta que cualquiera de los eventos ocurra. Al\n",
    "    ingresar la palabra \"termina\" el programa se detendrá.'''\n",
    "\n",
    "entrada = \"\"\n",
    "suma = 0\n",
    "while suma < 3:\n",
    "    entrada = input(\"Clave:\")\n",
    "    if entrada == \"despedida\":\n",
    "        break\n",
    "    elif entrada == \"termina\":\n",
    "        exit()\n",
    "    suma = suma + 1\n",
    "    print(\"Intento %d. \\n \" % suma)\n",
    "print(\"Tuviste %d intentos fallidos.\" % suma)"
   ]
  },
  {
   "cell_type": "markdown",
   "id": "47465646",
   "metadata": {},
   "source": [
    "##  Ciclos infinitos.\n",
    "\n",
    "Un ciclo infinito con ```while``` se puede provocar cuando la condición lógica que se evalúa siempre sea ```True```."
   ]
  },
  {
   "cell_type": "markdown",
   "id": "030ab4f0",
   "metadata": {},
   "source": [
    "**Ejemplo**"
   ]
  },
  {
   "cell_type": "code",
   "execution_count": null,
   "id": "ee28eaa5",
   "metadata": {},
   "outputs": [],
   "source": [
    "numero_de_intento=0\n",
    "while 0 < 3:\n",
    "    entrada = input(\"Ingrese el nombre de su facultad: \")\n",
    "    #Si se ingresa la palabra \"despedida, se termina el ciclo.\n",
    "    if entrada == \"FISI\":\n",
    "        break\n",
    "    numero_de_intento+=1\n",
    "    print(\"Intento %d. \\n \" % numero_de_intento)\n",
    "print(\"Tuviste %d intentos fallidos.\" % numero_de_intento)"
   ]
  },
  {
   "cell_type": "markdown",
   "id": "1ddad80b",
   "metadata": {},
   "source": [
    "##   Funciones\n",
    "\n",
    "Las funciones en Python son objetos que pueden ser ejecutados al ser invocados y que realizan ciertas operaciones que fueron asignadas al momento de ser definidas.\n",
    "\n",
    "**def**  nombre_de_la_funcion **(** parametro1, parametro2, ... **):**\n",
    "\n",
    "   ----------Cuerpo de la función\n",
    "    \n",
    "  ----------- **return** resultado\n"
   ]
  },
  {
   "cell_type": "markdown",
   "id": "19f72a44",
   "metadata": {},
   "source": [
    "**Ejemplo** La siguiente función  saluda a la variable:"
   ]
  },
  {
   "cell_type": "code",
   "execution_count": null,
   "id": "89141170",
   "metadata": {},
   "outputs": [],
   "source": [
    "def dividir_y_obtener_resto(dividendo, divisor):\n",
    "    cociente = dividendo // divisor\n",
    "    resto = dividendo % divisor\n",
    "    return cociente, resto\n"
   ]
  },
  {
   "cell_type": "markdown",
   "id": "309393dc",
   "metadata": {},
   "source": [
    "# Módulos de Matemáticas\n",
    "\n",
    "1. NumPy:\n",
    "- Biblioteca esencial para la computación numérica en Python, proporciona soporte para arrays multidimensionales, funciones matemáticas avanzadas y operaciones de álgebra lineal.\n",
    "2. Matplotlib:\n",
    "- Biblioteca para la creación de gráficos $2 \\mathrm{D}$ y $3 \\mathrm{D}$, esencial para visualizar resultados de métodos numéricos.\n",
    "3. Math:\n",
    "- Descripción: El módulo math es parte de la biblioteca estándar de Python y proporciona funciones matemáticas básicas. Incluye operaciones como trigonometría, logaritmos, funciones exponenciales, entre otras.\n",
    "4. SciPy:\n",
    "- Se basa en NumPy y ofrece funcionalidades adicionales para la optimización, estadísticas, procesamiento de señales y álgebra lineal dispersa. Incluye algoritmos numéricos esenciales.\n",
    "5. SymPy:\n",
    "- Biblioteca para matemáticas simbólicas, útil para la manipulación de expresiones simbólicas y cálculos simbólicos.\n"
   ]
  },
  {
   "cell_type": "markdown",
   "id": "90b54e11",
   "metadata": {},
   "source": [
    "## Instalar un módulo en Jupyte Notebook\n",
    "\n",
    "para instalar es suficiente escribir lo siguiente en una celda:\n",
    "\n",
    "**!pip install** nombre_del_módulo\n",
    "\n",
    "Y para usarlo, escribir:\n",
    "\n",
    "**import** nombre_del_módulo\n",
    "\n",
    "Si sólo se quiere importar un submodulo de un módulo, escribir:\n",
    "\n",
    "**from** nombre_del_módulo **import** nombre_del_submódulo_1,...,nombre_del_submódulo_k\n",
    "\n"
   ]
  },
  {
   "cell_type": "markdown",
   "id": "169358c7",
   "metadata": {},
   "source": [
    "## Numpy\n",
    "\n",
    "NumPy es una biblioteca extremadamente versátil en Python que proporciona herramientas para trabajar eficientemente con arreglos multidimensionales y realizar una amplia variedad de operaciones numéricas y matemáticas. Aquí tienes una lista de algunas de las cosas que puedes hacer con NumPy:\n",
    "1. Creación de Arreglos:\n",
    "- Crear arreglos unidimensionales o multidimensionales.\n",
    "- Inicializar arreglos con valores específicos, ceros, unos, o secuencias.\n",
    "2. Operaciones Básicas:\n",
    "- Realizar operaciones matemáticas básicas en arreglos (suma, resta, multiplicación, división).\n",
    "- Aplicar funciones matemáticas elementales (np.sin, np.cos, np.exp, np.log, etc.) a los elementos de un arreglo.\n",
    "3. Álgebra Lineal:\n",
    "- Realizar operaciones de álgebra lineal como multiplicación de matrices, inversión de matrices, determinantes, etc.\n",
    "- Resolver sistemas de ecuaciones lineales.\n",
    "4. Estadísticas y Análisis de Datos:\n",
    "- Calcular estadísticas descriptivas (media, mediana, desviación estándar, etc.).\n",
    "- Realizar operaciones de agregación en datos (sumas acumulativas, productos acumulativos, etc.).\n",
    "5. FFT (Transformada Rápida de Fourier):\n",
    "- Realizar transformadas de Fourier y operaciones relacionadas.\n",
    "6. Cálculos de Gradiente y Diferenciación Numérica:\n",
    "- Calcular gradientes y derivadas numéricas.\n",
    "7. Operaciones de Conjuntos:\n",
    "- Realizar operaciones de conjuntos con arreglos.\n",
    "8. Máscaras y Filtros:\n",
    "- Utilizar máscaras booleanas para filtrar datos en arreglos.\n",
    "9. Interpolación y Ajuste de Curvas:\n",
    "- Realizar interpolación y ajuste de curvas.\n",
    "10. Guardar y Cargar Datos:\n",
    "- Guardar y cargar arreglos en archivos.\n"
   ]
  },
  {
   "cell_type": "markdown",
   "id": "67cb3afe",
   "metadata": {},
   "source": [
    "### Matrices en Numpy"
   ]
  },
  {
   "cell_type": "code",
   "execution_count": null,
   "id": "552c787d",
   "metadata": {},
   "outputs": [],
   "source": [
    "import numpy as np\n",
    "\n",
    "# Crear una matriz a partir de una lista de listas\n",
    "matrix = np.array([[1, 2, 3], [4, 5, 6], [7, 8, 9]])\n",
    "\n",
    "# Crear una matriz de ceros\n",
    "zeros_matrix = np.zeros((3, 3))\n",
    "\n",
    "# Crear una matriz de unos\n",
    "ones_matrix = np.ones((3,3))\n",
    "\n",
    "# Suma de matrices\n",
    "result_sum = matrix + ones_matrix\n",
    "\n",
    "# Multiplicación de matrices\n",
    "result_mult = np.dot(matrix, ones_matrix)\n",
    "\n",
    "# Crear una matriz de ejemplo\n",
    "matrix = np.array([[1, 2, 3], [4, 5, 6], [7, 8, 9]])\n",
    "\n",
    "# Obtener la cantidad de filas y columnas\n",
    "num_rows, num_columns = matrix.shape\n"
   ]
  },
  {
   "cell_type": "markdown",
   "id": "cb069a10",
   "metadata": {},
   "source": [
    "### Submódulo linalg\n",
    "\n",
    "NumPy incluye un submódulo **linalg** que proporciona funciones para realizar operaciones de álgebra lineal en matrices, como inversión de matrices, cálculo de determinantes, resolución de sistemas de ecuaciones lineales, entre otros."
   ]
  },
  {
   "cell_type": "code",
   "execution_count": null,
   "id": "bf590be3",
   "metadata": {},
   "outputs": [],
   "source": [
    "# Inversión de una matriz\n",
    "inverse_matrix = np.linalg.inv(matrix)\n",
    "\n",
    "# Resolución de un sistema de ecuaciones lineales\n",
    "coeff_matrix = np.array([[2, 3], [4, 5]])\n",
    "constant_vector = np.array([6, 7])\n",
    "solution = np.linalg.solve(coeff_matrix, constant_vector)\n"
   ]
  },
  {
   "cell_type": "markdown",
   "id": "ab06cec7",
   "metadata": {},
   "source": [
    "## Matplotlib\n",
    "\n",
    "Matplotlib es una biblioteca de visualización en Python que permite crear gráficos 2D y 3D de alta calidad. Es ampliamente utilizada en la comunidad científica, ingenieril y de análisis de datos para representar datos de manera efectiva. "
   ]
  },
  {
   "cell_type": "markdown",
   "id": "2aae4c95",
   "metadata": {},
   "source": [
    "### Graficar en 2D\n",
    "\n",
    "Para visualizar gráficamente funciones en Python, se puede utilizar la biblioteca matplotlib, que es ampliamente utilizada para la creación de gráficos. Aquí hay un ejemplo básico de cómo graficar una función:"
   ]
  },
  {
   "cell_type": "code",
   "execution_count": 4,
   "id": "7646f042",
   "metadata": {},
   "outputs": [
    {
     "data": {
      "image/png": "[encoded data removed]",
      "text/plain": [
       "<Figure size 640x480 with 1 Axes>"
      ]
     },
     "metadata": {},
     "output_type": "display_data"
    }
   ],
   "source": [
    "import matplotlib.pyplot as plt\n",
    "# Gráfico de línea\n",
    "x = [1, 2, 3, 4, 5]\n",
    "y = [2, 5, 6, 9, 10]\n",
    "plt.plot(x, y)\n",
    "plt.xlabel('Eje X')\n",
    "plt.ylabel('Eje Y')\n",
    "plt.title('Gráfico')\n",
    "plt.show()\n"
   ]
  },
  {
   "cell_type": "code",
   "execution_count": 5,
   "id": "6825228a",
   "metadata": {},
   "outputs": [
    {
     "data": {
      "image/png": "[encoded data removed]",
      "text/plain": [
       "<Figure size 640x480 with 1 Axes>"
      ]
     },
     "metadata": {},
     "output_type": "display_data"
    }
   ],
   "source": [
    "# Gráfico de barras\n",
    "categories = ['A', 'B', 'C', 'D']\n",
    "values = [3, 7, 1, 5]\n",
    "plt.bar(categories, values)\n",
    "plt.xlabel('Categorías')\n",
    "plt.ylabel('Valores')\n",
    "plt.title('Gráfico de Barras')\n",
    "plt.show()\n"
   ]
  },
  {
   "cell_type": "code",
   "execution_count": 6,
   "id": "d17e3422",
   "metadata": {},
   "outputs": [
    {
     "data": {
      "image/png": "[encoded data removed]",
      "text/plain": [
       "<Figure size 640x480 with 1 Axes>"
      ]
     },
     "metadata": {},
     "output_type": "display_data"
    }
   ],
   "source": [
    "# Gráfico de dispersión\n",
    "x = [1, 2, 3, 4, 5]\n",
    "y = [2, 4, 6, 8, 10]\n",
    "plt.scatter(x, y)\n",
    "plt.xlabel('Eje X')\n",
    "plt.ylabel('Eje Y')\n",
    "plt.title('Gráfico de Dispersión')\n",
    "plt.show()\n"
   ]
  },
  {
   "cell_type": "code",
   "execution_count": 7,
   "id": "eae66cd8",
   "metadata": {},
   "outputs": [
    {
     "data": {
      "image/png": "[encoded data removed]",
      "text/plain": [
       "<Figure size 640x480 with 1 Axes>"
      ]
     },
     "metadata": {},
     "output_type": "display_data"
    }
   ],
   "source": [
    "#Grafica de una función 2D\n",
    "import matplotlib.pyplot as plt\n",
    "import numpy as np\n",
    "\n",
    "# Definir la función a graficar\n",
    "def funcion_cuadratica(x):\n",
    "    return x**2\n",
    "\n",
    "# Crear datos para el eje x (por ejemplo, valores de -10 a 10)\n",
    "x_vals = np.linspace(-10, 10, 100)\n",
    "\n",
    "# Calcular los valores correspondientes en el eje y utilizando la función\n",
    "y_vals = funcion_cuadratica(x_vals)\n",
    "\n",
    "# Crear la gráfica\n",
    "plt.plot(x_vals, y_vals, label='y = x^2')\n",
    "\n",
    "# Etiquetas y título\n",
    "plt.xlabel('Eje X')\n",
    "plt.ylabel('Eje Y')\n",
    "plt.title('Gráfica de una Función Cuadrática')\n",
    "\n",
    "# Mostrar la leyenda\n",
    "plt.legend()\n",
    "\n",
    "# Mostrar la gráfica\n",
    "plt.grid(True)\n",
    "plt.show()\n"
   ]
  },
  {
   "cell_type": "code",
   "execution_count": 8,
   "id": "9fee9787",
   "metadata": {},
   "outputs": [
    {
     "data": {
      "image/png": "[encoded data removed]",
      "text/plain": [
       "<Figure size 640x480 with 1 Axes>"
      ]
     },
     "metadata": {},
     "output_type": "display_data"
    }
   ],
   "source": [
    "# Personalizaciones\n",
    "x = np.linspace(0, 2 * np.pi, 100)\n",
    "y = np.sin(x)\n",
    "plt.plot(x, y, label='Función Seno', color='blue', linestyle='--', linewidth=2)\n",
    "plt.xlabel('Ángulo (radianes)')\n",
    "plt.ylabel('Valor')\n",
    "plt.title('Gráfico de la Función Seno')\n",
    "plt.legend()\n",
    "plt.grid(True)\n",
    "plt.show()\n"
   ]
  },
  {
   "cell_type": "code",
   "execution_count": 9,
   "id": "c4acebcf",
   "metadata": {},
   "outputs": [
    {
     "data": {
      "image/png": "[encoded data removed]",
      "text/plain": [
       "<Figure size 640x480 with 1 Axes>"
      ]
     },
     "metadata": {},
     "output_type": "display_data"
    }
   ],
   "source": [
    "# Gráfico de superficie 3D\n",
    "from mpl_toolkits.mplot3d import Axes3D\n",
    "\n",
    "fig = plt.figure()\n",
    "ax = fig.add_subplot(111, projection='3d')\n",
    "x = np.linspace(-5, 5, 100)\n",
    "y = np.linspace(-5, 5, 100)\n",
    "X, Y = np.meshgrid(x, y)\n",
    "Z = np.sin(np.sqrt(X**2 + Y**2))\n",
    "ax.plot_surface(X, Y, Z, cmap='viridis')\n",
    "plt.xlabel('Eje X')\n",
    "plt.ylabel('Eje Y')\n",
    "ax.set_zlabel('Eje Z')\n",
    "plt.title('Gráfico de Superficie 3D')\n",
    "plt.show()\n"
   ]
  },
  {
   "cell_type": "code",
   "execution_count": null,
   "id": "455268dd",
   "metadata": {},
   "outputs": [],
   "source": [
    "# Guardar figuras\n",
    "plt.savefig('grafico.png')"
   ]
  },
  {
   "cell_type": "markdown",
   "id": "6b1464e6",
   "metadata": {},
   "source": [
    "## Math Module\n",
    "\n",
    "En el módulo \"math ' de Python, hay varias funciones que puedes importar para realizar operaciones matemáticas más avanzadas. Aquí hay algunas de las funciones más comunes:\n",
    "1. Funciones Trigonométricas:\n",
    "- \"math. $\\sin (x)^`:$ Seno de $x$ en radianes.\n",
    "- 'math. $\\cos (x)^`$ : Coseno de $x$ en radianes.\n",
    "- 'math.tan $(x)$ : Tangente de $x$ en radianes.\n",
    "2. Funciones Inversas Trigonométricas:\n",
    "- 'math.asin( $x$ ) \": Arco seno, devuelve el ángulo cuyo seno es $x$.\n",
    "- 'math. $\\operatorname{acos}(x)^{\\text {: }}$ : Arco coseno, devuelve el ángulo cuyo coseno es $x$.\n",
    "- 'math.atan $(x)^`$ : Arco tangente, devuelve el ángulo cuya tangente es $x$.\n",
    "3. Funciones Exponenciales y Logaritmos:\n",
    "- 'math.exp(x)\": Exponencial dex.\n",
    "- 'math. $\\log (x)^{\\prime}$ : Logaritmo natural de $x$.\n",
    "- 'math. $\\log 10(x)^{\\prime}$ : Logaritmo base 10 de $x$.\n",
    "4. Funciones Hiperbólicas:\n",
    "- 'math.sinh $(x)^`$ : Seno hiperbólico de $x$.\n",
    "- 'math. cosh(x)\": Coseno hiperbólico de $x$.\n",
    "- 'math. $\\tanh (x)^{\\prime}$ : Tangente hiperbólica de $x$.\n",
    "5. Funciones de Redondeo:\n",
    "- 'math.ceil(x) ': Redondea hacia arriba el númerox.\n",
    "- 'math.floor(x)\": Redondea hacia abajo el númerox.\n",
    "6. Funciones Misceláneas:\n",
    "- 'math.sqrt $(x)^{\\text {: }}$ : Raíz cuadrada de $x$.\n",
    "- 'math.fabs $(x)^`$ : Valor absoluto de $x$.\n",
    "7. Constantes:\n",
    "- \"math.pi ': Valor de pi ( $\\pi$ ).\n",
    "- 'math.e ': Valor de la constante e (base del logaritmo natural).\n",
    "Para utilizar cualquiera de estas funciones, primero debes importar el módulo 'math '. Puedes importar funciones específicas o el módulo completo. Aquí hay ejemplos:"
   ]
  },
  {
   "cell_type": "code",
   "execution_count": null,
   "id": "5f2038d9",
   "metadata": {},
   "outputs": [],
   "source": [
    "# Importar funciones específicas\n",
    "from math import sin, cos, pi\n",
    "\n",
    "resultado_sin = sin(pi / 4)\n",
    "resultado_cos = cos(pi / 3)\n",
    "\n",
    "# Importar el módulo completo\n",
    "import math\n",
    "\n",
    "resultado_tan = math.tan(math.pi / 6)\n"
   ]
  },
  {
   "cell_type": "markdown",
   "id": "410b4406",
   "metadata": {},
   "source": [
    "# Extra: PrettyTable (imprimir tablas)\n",
    "\n",
    "PrettyTable es una biblioteca ligera y fácil de usar en Python que permite la creación de tablas atractivas y bien formateadas directamente en la consola. Con PrettyTable, los datos tabulares se pueden organizar de manera clara en filas y columnas, y la biblioteca se encarga automáticamente de la alineación y presentación estética. Su sintaxis sencilla permite definir fácilmente el encabezado y agregar filas de datos de manera intuitiva. "
   ]
  },
  {
   "cell_type": "code",
   "execution_count": null,
   "id": "ccee31f7",
   "metadata": {},
   "outputs": [],
   "source": [
    "!pip install prettytable\n"
   ]
  },
  {
   "cell_type": "code",
   "execution_count": 2,
   "id": "5f358479",
   "metadata": {},
   "outputs": [
    {
     "name": "stdout",
     "output_type": "stream",
     "text": [
      "+---------+------+------------+\n",
      "|  Nombre | Edad | Ocupación  |\n",
      "+---------+------+------------+\n",
      "|  Alice  |  25  | Estudiante |\n",
      "|   Bob   |  30  | Ingeniero  |\n",
      "| Charlie |  22  | Diseñador  |\n",
      "+---------+------+------------+\n"
     ]
    }
   ],
   "source": [
    "from prettytable import PrettyTable\n",
    "\n",
    "tabla = PrettyTable()\n",
    "tabla.field_names = [\"Nombre\", \"Edad\", \"Ocupación\"]\n",
    "tabla.add_row([\"Alice\", 25, \"Estudiante\"])\n",
    "tabla.add_row([\"Bob\", 30, \"Ingeniero\"])\n",
    "tabla.add_row([\"Charlie\", 22, \"Diseñador\"])\n",
    "\n",
    "print(tabla)"
   ]
  },
  {
   "cell_type": "code",
   "execution_count": 1,
   "id": "ea3342af",
   "metadata": {},
   "outputs": [
    {
     "name": "stdout",
     "output_type": "stream",
     "text": [
      "+---+--------+--------+--------+--------------+\n",
      "| k |   x1   |   x2   |   x3   |      d       |\n",
      "+---+--------+--------+--------+--------------+\n",
      "| 1 | 2.3450 | 1.2340 | 3.5670 | 1.234568e-05 |\n",
      "+---+--------+--------+--------+--------------+\n"
     ]
    }
   ],
   "source": [
    "from prettytable import PrettyTable\n",
    "\n",
    "# Datos de ejemplo\n",
    "k = 1\n",
    "x = [2.345, 1.234, 3.567]\n",
    "d = 1.2345678e-05\n",
    "\n",
    "# Crear una instancia de PrettyTable\n",
    "tabla = PrettyTable()\n",
    "\n",
    "# Definir las columnas de la tabla\n",
    "tabla.field_names = [\"k\", \"x1\", \"x2\", \"x3\", \"d\"]\n",
    "\n",
    "# Agregar una fila de datos\n",
    "tabla.add_row([k] + [f\"{xi:.4f}\" for xi in x] + [f\"{d:.6e}\"])\n",
    "\n",
    "# Imprimir la tabla\n",
    "print(tabla)\n"
   ]
  },
  {
   "cell_type": "code",
   "execution_count": null,
   "id": "e03eb9d2",
   "metadata": {},
   "outputs": [],
   "source": []
  }
 ],
 "metadata": {
  "kernelspec": {
   "display_name": "Python 3 (ipykernel)",
   "language": "python",
   "name": "python3"
  },
  "language_info": {
   "codemirror_mode": {
    "name": "ipython",
    "version": 3
   },
   "file_extension": ".py",
   "mimetype": "text/x-python",
   "name": "python",
   "nbconvert_exporter": "python",
   "pygments_lexer": "ipython3",
   "version": "3.13.5"
  }
 },
 "nbformat": 4,
 "nbformat_minor": 5
}
